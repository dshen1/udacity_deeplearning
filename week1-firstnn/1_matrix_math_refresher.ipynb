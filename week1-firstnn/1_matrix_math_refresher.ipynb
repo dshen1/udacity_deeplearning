{
 "cells": [
  {
   "cell_type": "markdown",
   "metadata": {
    "collapsed": true
   },
   "source": [
    "### Matix math refresher"
   ]
  },
  {
   "cell_type": "code",
   "execution_count": 1,
   "metadata": {
    "collapsed": true
   },
   "outputs": [],
   "source": [
    "import numpy as np"
   ]
  },
  {
   "cell_type": "code",
   "execution_count": 17,
   "metadata": {
    "collapsed": false
   },
   "outputs": [
    {
     "name": "stdout",
     "output_type": "stream",
     "text": [
      "5\n",
      "shape:  (3,)\n",
      "shape:  (3, 3)\n",
      "m00:  1\n",
      "tensor shape:  (3, 3, 2, 1)\n"
     ]
    }
   ],
   "source": [
    "## a scalar\n",
    "s = np.array(5)\n",
    "s.shape        ## has no shape\n",
    "print(s)\n",
    "\n",
    "## Vector \n",
    "v = np.array([1,2,3])\n",
    "print('shape: ',v.shape)\n",
    "\n",
    "## matrix\n",
    "m = np.array([[1,2,3],[4,5,6],[7,8,9]])\n",
    "print('shape: ',m.shape)\n",
    "print('m00: ',m[0][0])\n",
    "\n",
    "## tensor -- usually has more dimensions\n",
    "t = np.array([[[[1],[2]],[[3],[4]],[[5],[6]]],[[[7],[8]],\\\n",
    "    [[9],[10]],[[11],[12]]],[[[13],[14]],[[15],[16]],[[17],[17]]]])\n",
    "print('tensor shape: ',t.shape)"
   ]
  },
  {
   "cell_type": "markdown",
   "metadata": {},
   "source": [
    "#### Element-wise operation"
   ]
  },
  {
   "cell_type": "code",
   "execution_count": 19,
   "metadata": {
    "collapsed": false
   },
   "outputs": [
    {
     "name": "stdout",
     "output_type": "stream",
     "text": [
      "addition:  [ 6  7  8  9 10]\n",
      "multiplication:  [30 35 40 45 50]\n"
     ]
    }
   ],
   "source": [
    "## additon \n",
    "values = [1,2,3,4,5]\n",
    "values = np.array(values) + 5\n",
    "print('addition: ',values)\n",
    "## multiply\n",
    "values*=5\n",
    "print('multiplication: ',values)"
   ]
  },
  {
   "cell_type": "code",
   "execution_count": 22,
   "metadata": {
    "collapsed": false
   },
   "outputs": [
    {
     "name": "stdout",
     "output_type": "stream",
     "text": [
      "addition:  [[ 3  7]\n",
      " [11 15]]\n",
      "multiply,element-wise:  [[ 2 12]\n",
      " [30 56]]\n",
      "multiply,element-wise:  [[20 28]\n",
      " [52 76]]\n"
     ]
    }
   ],
   "source": [
    "## addition\n",
    "a = np.array([[1,3],[5,7]])\n",
    "b = np.array([[2,4],[6,8]])\n",
    "print('addition: ',a + b)\n",
    "\n",
    "## element-wise multiplication\n",
    "print('multiply,element-wise: ',a*b)\n",
    "\n",
    "## dot product \n",
    "print('multiply,element-wise: ',a.dot(b))"
   ]
  },
  {
   "cell_type": "code",
   "execution_count": 24,
   "metadata": {
    "collapsed": false
   },
   "outputs": [
    {
     "data": {
      "text/plain": [
       "array([[1, 4, 7],\n",
       "       [2, 5, 8],\n",
       "       [3, 6, 9]])"
      ]
     },
     "execution_count": 24,
     "metadata": {},
     "output_type": "execute_result"
    }
   ],
   "source": [
    "## matrix transpose \n",
    "m = np.array([[1,2,3],[4,5,6],[7,8,9]])\n",
    "m.T            ## matrix transpose"
   ]
  },
  {
   "cell_type": "code",
   "execution_count": 27,
   "metadata": {
    "collapsed": false
   },
   "outputs": [
    {
     "name": "stdout",
     "output_type": "stream",
     "text": [
      "(1, 4)\n",
      "(3, 4)\n"
     ]
    },
    {
     "data": {
      "text/plain": [
       "array([[-0.01299],\n",
       "       [ 0.00664],\n",
       "       [ 0.13494]])"
      ]
     },
     "execution_count": 27,
     "metadata": {},
     "output_type": "execute_result"
    }
   ],
   "source": [
    "## example \n",
    "inputs = np.array([[-0.27,  0.45,  0.64, 0.31]])\n",
    "weights = np.array([[0.02, 0.001, -0.03, 0.036], \\\n",
    "    [0.04, -0.003, 0.025, 0.009], [0.012, -0.045, 0.28, -0.067]])\n",
    "\n",
    "print(inputs.shape)\n",
    "print(weights.shape)\n",
    "\n",
    "np.matmul(weights,inputs.T)"
   ]
  },
  {
   "cell_type": "code",
   "execution_count": 30,
   "metadata": {
    "collapsed": false
   },
   "outputs": [],
   "source": [
    "## check if two matrix are confortable, otherwise return false \n",
    "def multiply_inputs(m1, m2):\n",
    "    if m1.shape[0] != m2.shape[1] and m1.shape[1] != m2.shape[0]:     \n",
    "        return False\n",
    "    if m1.shape[1] == m2.shape[0]:\n",
    "        return np.matmul(m1, m2)        \n",
    "    else:\n",
    "        return np.matmul(m2, m1)    "
   ]
  }
 ],
 "metadata": {
  "kernelspec": {
   "display_name": "Python 3",
   "language": "python",
   "name": "python3"
  },
  "language_info": {
   "codemirror_mode": {
    "name": "ipython",
    "version": 3
   },
   "file_extension": ".py",
   "mimetype": "text/x-python",
   "name": "python",
   "nbconvert_exporter": "python",
   "pygments_lexer": "ipython3",
   "version": "3.6.0"
  }
 },
 "nbformat": 4,
 "nbformat_minor": 2
}
