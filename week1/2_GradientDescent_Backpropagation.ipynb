{
 "cells": [
  {
   "cell_type": "code",
   "execution_count": 7,
   "metadata": {
    "collapsed": false,
    "deletable": true,
    "editable": true,
    "scrolled": true
   },
   "outputs": [],
   "source": [
    "import numpy as np"
   ]
  },
  {
   "cell_type": "markdown",
   "metadata": {
    "deletable": true,
    "editable": true
   },
   "source": [
    "### 1. Numpy implimentation of Gradient Descent"
   ]
  },
  {
   "cell_type": "markdown",
   "metadata": {
    "deletable": true,
    "editable": true
   },
   "source": [
    "- Let's say our cost function is sum of squared error devided by 2(for calculation convience): $$E = \\frac{1}{2}\\sum_\\mu(y^{\\mu}-\\hat{y}^{\\mu})^2$$\n",
    "- $$E = \\frac{1}{2}\\sum_\\mu(y^{\\mu}-\\hat{y}^{\\mu}) = \\frac{1}{2}\\sum_\\mu(y^{\\mu}-f(\\sum_iw_ix_{i}^{mu}))^2$$\n",
    "- $\\mu$ is the number of records, $i$ is the number of variables \n",
    "- let first take a look at the gradient for one record\n",
    "- now, take the derative of out cost function in terms of $w_i$:\n",
    "$$\\frac{d}{dw_i}=-(y-\\hat{y})f'(h)x_i$$\n",
    "- $f'(h)$ is the derative of the activation function, $\\eta$ is the learning rate\n",
    "- $$\\Delta w_i = \\eta(y-\\hat{y})f'(h)x_i$$\n",
    "- we define error term: $$\\delta = (y-\\hat{y})f'(h)$$\n",
    "- now our weight update is: $$w_i = w_i + \\eta\\delta x_i$$\n"
   ]
  },
  {
   "cell_type": "markdown",
   "metadata": {
    "deletable": true,
    "editable": true
   },
   "source": [
    "#### Now let's implement it "
   ]
  },
  {
   "cell_type": "code",
   "execution_count": 8,
   "metadata": {
    "collapsed": true,
    "deletable": true,
    "editable": true
   },
   "outputs": [],
   "source": [
    "# Defining the sigmoid function for activations\n",
    "def sigmoid(x):\n",
    "    return 1/(1+np.exp(-x))     # is it basically what used in logistic regression \n",
    "# Derivative of the sigmoid function\n",
    "def sigmoid_prime(x):\n",
    "    return sigmoid(x) * (1 - sigmoid(x))"
   ]
  },
  {
   "cell_type": "markdown",
   "metadata": {
    "deletable": true,
    "editable": true
   },
   "source": [
    "\n",
    "##### calssification of school admition "
   ]
  },
  {
   "cell_type": "code",
   "execution_count": 9,
   "metadata": {
    "collapsed": false,
    "deletable": true,
    "editable": true
   },
   "outputs": [
    {
     "name": "stdout",
     "output_type": "stream",
     "text": [
      "features size: (360, 6)\n",
      "target size: (360,)\n"
     ]
    }
   ],
   "source": [
    "import numpy as np\n",
    "from data_prep import features, targets, features_test, targets_test\n",
    "\n",
    "print('features size:',features.shape)\n",
    "print('target size:', targets.shape)"
   ]
  },
  {
   "cell_type": "markdown",
   "metadata": {
    "deletable": true,
    "editable": true
   },
   "source": [
    "in real world, we will vectorized this, but for now, let's just iterate through them "
   ]
  },
  {
   "cell_type": "code",
   "execution_count": 10,
   "metadata": {
    "collapsed": false,
    "deletable": true,
    "editable": true
   },
   "outputs": [
    {
     "name": "stdout",
     "output_type": "stream",
     "text": [
      "Train loss:  0.26276093849966364\n",
      "Train loss:  0.20084292908073417\n",
      "Train loss:  0.19779851396686018\n",
      "Train loss:  0.19723507746241067\n",
      "Train loss:  0.19706766341315074\n"
     ]
    }
   ],
   "source": [
    "# Use to same seed to make debugging easier\n",
    "np.random.seed(42)\n",
    "n_records, n_features = features.shape                                ## get number of observation and number of variables \n",
    "last_loss = None                                                      ## set cost function to be none as initiation \n",
    "## it is common to initiat random small weights as 1 / n_features**.5\n",
    "weights = np.random.normal(scale=1 / n_features**.5, size=n_features) # Initialize weights\n",
    "# Neural Network hyperparameters\n",
    "epochs = 1000           ## number of iteration                                              \n",
    "learnrate = 0.5         ## learning rate \n",
    "\n",
    "############################################\n",
    "## this is the process runs gradient decent#\n",
    "############################################\n",
    "for e in range(epochs):                        # run 1000 iterations\n",
    "    del_w = np.zeros(weights.shape)\n",
    "    for x, y in zip(features.values, targets): # Loop through all records, x is the input, y is the target\n",
    "        output = sigmoid(np.dot(x,weights))          # Calculate the output\n",
    "        error = y-output                             # calculate the error\n",
    "        error_term = error * output * (1 - output)   # error term \\eta\n",
    "        del_w += error_term*x                        # and add it to the total weight change\n",
    "        ## del_w is a vector of 6 items \n",
    "        ## end if inner loop\n",
    "        \n",
    "    weights += learnrate * del_w / n_records         # take the average change and update it \n",
    "    \n",
    "    # Printing out the mean square error on the training set\n",
    "    if e % (epochs / 5) == 0:   ## print out 5 results \n",
    "        out = sigmoid(np.dot(features, weights))\n",
    "        loss = np.mean((out - targets) ** 2)\n",
    "        if last_loss and last_loss < loss:\n",
    "            print(\"Train loss: \", loss, \"  WARNING - Loss Increasing\")\n",
    "        else:\n",
    "            print(\"Train loss: \", loss)\n",
    "        last_loss = loss"
   ]
  },
  {
   "cell_type": "code",
   "execution_count": 11,
   "metadata": {
    "collapsed": false,
    "deletable": true,
    "editable": true
   },
   "outputs": [
    {
     "name": "stdout",
     "output_type": "stream",
     "text": [
      "Prediction accuracy: 0.725\n"
     ]
    }
   ],
   "source": [
    "# Calculate accuracy on test data\n",
    "tes_out = sigmoid(np.dot(features_test, weights))\n",
    "predictions = tes_out > 0.5\n",
    "accuracy = np.mean(predictions == targets_test)\n",
    "print(\"Prediction accuracy: {:.3f}\".format(accuracy))"
   ]
  },
  {
   "cell_type": "markdown",
   "metadata": {
    "collapsed": true,
    "deletable": true,
    "editable": true
   },
   "source": [
    "### Backpropagation"
   ]
  },
  {
   "cell_type": "markdown",
   "metadata": {
    "deletable": true,
    "editable": true
   },
   "source": [
    "- for multi-layer backpropagation, the error term, based on chain rule is : \n",
    "$$\\delta^h_j = \\sum W_{jk}\\delta^0f'(h_j)$$\n",
    "$$\\Delta w_{pq} = \\eta \\delta_{output}V_{in}$$\n",
    "- for detailed explaination please see: https://www.youtube.com/watch?v=59Hbtz7XgjM"
   ]
  },
  {
   "cell_type": "markdown",
   "metadata": {
    "deletable": true,
    "editable": true
   },
   "source": [
    "##### Implementation "
   ]
  },
  {
   "cell_type": "markdown",
   "metadata": {
    "deletable": true,
    "editable": true
   },
   "source": [
    "<img src='data/backprop.png' width=80% height=80%>"
   ]
  },
  {
   "cell_type": "markdown",
   "metadata": {
    "deletable": true,
    "editable": true
   },
   "source": [
    "#### In real world we may want to vectorize this as well "
   ]
  },
  {
   "cell_type": "code",
   "execution_count": 14,
   "metadata": {
    "collapsed": false,
    "deletable": true,
    "editable": true
   },
   "outputs": [
    {
     "name": "stdout",
     "output_type": "stream",
     "text": [
      "Train loss:  0.27630002065852294\n",
      "Train loss:  0.2611609415133075\n",
      "Train loss:  0.2502600961884271\n",
      "Train loss:  0.24247242010582226\n",
      "Train loss:  0.23690102376400965\n",
      "Prediction accuracy: 0.750\n"
     ]
    }
   ],
   "source": [
    "from data_prep import features, targets, features_test, targets_test\n",
    "np.random.seed(21)\n",
    "def sigmoid(x):\n",
    "    return 1 / (1 + np.exp(-x))\n",
    "# Derivative of the sigmoid function\n",
    "def sigmoid_prime(x):\n",
    "    return sigmoid(x) * (1 - sigmoid(x))\n",
    "\n",
    "# Hyperparameters\n",
    "n_hidden = 2        # number of hidden units\n",
    "epochs = 5500\n",
    "learnrate = 0.005   \n",
    "\n",
    "n_records, n_features = features.shape                               # get feature dimention\n",
    "last_loss = None\n",
    "# Initialize weights\n",
    "weights_input_hidden = np.random.normal(scale=1 / n_features ** .5,\n",
    "                                        size=(n_features,  ))\n",
    "weights_hidden_output = np.random.normal(scale=1 / n_features ** .5,\n",
    "                                         size=n_hidden)\n",
    "\n",
    "## run the network \n",
    "for e in range(epochs):\n",
    "    del_w_input_hidden = np.zeros(weights_input_hidden.shape)       # delta w starts with zero\n",
    "    del_w_hidden_output = np.zeros(weights_hidden_output.shape)\n",
    "    for x, y in zip(features.values, targets):\n",
    "        ## Forward pass ##\n",
    "        hidden_input = x.dot(weights_input_hidden)\n",
    "        hidden_output = sigmoid(hidden_input)\n",
    "        output = sigmoid(np.dot(hidden_output,weights_hidden_output))\n",
    "        \n",
    "        ## Backward pass##\n",
    "        error = y - output                              ## predicted error\n",
    "        ## calculate error term\n",
    "        output_error_term = error*sigmoid_prime(np.dot(hidden_output,weights_hidden_output)) \n",
    "        # you can also do this output_error_term = error * output * (1 - output), will probably save some computing \n",
    "        # but using is sigmoid_prime is more clear to me, as we are using chain rule to get the gradient\n",
    "        \n",
    "        ## calculate hidden error term\n",
    "        hidden_error_term = np.dot(output_error_term, weights_hidden_output)* sigmoid_prime(hidden_input)\n",
    "        ## same thing here, can use the reulst of hidden_output \n",
    "        \n",
    "        ## Update the change in weights\n",
    "        del_w_hidden_output += output_error_term * hidden_output\n",
    "        del_w_input_hidden += hidden_error_term * x[:, None] ## x need to be a column vector\n",
    "       ##end of loop\n",
    "    \n",
    "    # TODO: Update weights\n",
    "    weights_input_hidden += learnrate * del_w_input_hidden / n_records\n",
    "    weights_hidden_output += learnrate * del_w_hidden_output / n_records\n",
    "    \n",
    "        # Printing out the mean square error on the training set\n",
    "    if e % (epochs / 5) == 0:\n",
    "        hidden_output = sigmoid(np.dot(x, weights_input_hidden))\n",
    "        out = sigmoid(np.dot(hidden_output,\n",
    "                             weights_hidden_output))\n",
    "        loss = np.mean((out - targets) ** 2)\n",
    "\n",
    "        if last_loss and last_loss < loss:\n",
    "            print(\"Train loss: \", loss, \"  WARNING - Loss Increasing\")\n",
    "        else:\n",
    "            print(\"Train loss: \", loss)\n",
    "        last_loss = loss\n",
    "\n",
    "###########################################\n",
    "# Calculate accuracy on test data\n",
    "hidden = sigmoid(np.dot(features_test, weights_input_hidden))\n",
    "out = sigmoid(np.dot(hidden, weights_hidden_output))\n",
    "predictions = out > 0.5\n",
    "accuracy = np.mean(predictions == targets_test)\n",
    "print(\"Prediction accuracy: {:.3f}\".format(accuracy))"
   ]
  },
  {
   "cell_type": "code",
   "execution_count": 16,
   "metadata": {
    "collapsed": true
   },
   "outputs": [],
   "source": [
    "from data_prep import features, targets, features_test, targets_test"
   ]
  },
  {
   "cell_type": "code",
   "execution_count": 17,
   "metadata": {
    "collapsed": false
   },
   "outputs": [
    {
     "data": {
      "text/plain": [
       "(360, 6)"
      ]
     },
     "execution_count": 17,
     "metadata": {},
     "output_type": "execute_result"
    }
   ],
   "source": [
    "features.shape"
   ]
  },
  {
   "cell_type": "code",
   "execution_count": 18,
   "metadata": {
    "collapsed": false
   },
   "outputs": [
    {
     "data": {
      "text/plain": [
       "(360,)"
      ]
     },
     "execution_count": 18,
     "metadata": {},
     "output_type": "execute_result"
    }
   ],
   "source": [
    "targets.shape"
   ]
  },
  {
   "cell_type": "code",
   "execution_count": null,
   "metadata": {
    "collapsed": true
   },
   "outputs": [],
   "source": []
  }
 ],
 "metadata": {
  "kernelspec": {
   "display_name": "Python 3",
   "language": "python",
   "name": "python3"
  },
  "language_info": {
   "codemirror_mode": {
    "name": "ipython",
    "version": 3
   },
   "file_extension": ".py",
   "mimetype": "text/x-python",
   "name": "python",
   "nbconvert_exporter": "python",
   "pygments_lexer": "ipython3",
   "version": "3.6.1"
  }
 },
 "nbformat": 4,
 "nbformat_minor": 2
}
