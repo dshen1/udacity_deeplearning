{
 "cells": [
  {
   "cell_type": "code",
   "execution_count": 1,
   "metadata": {
    "collapsed": true
   },
   "outputs": [],
   "source": [
    "import numpy as np"
   ]
  },
  {
   "cell_type": "markdown",
   "metadata": {},
   "source": [
    "### 1. Numpy implimentation of Gradient Descent"
   ]
  },
  {
   "cell_type": "markdown",
   "metadata": {},
   "source": [
    "- Let's say our cost function is sum of squared error devided by 2(for calculation convience): $$E = \\frac{1}{2}\\sum_\\mu(y^{\\mu}-\\hat{y}^{\\mu})^2$$\n",
    "- $$E = \\frac{1}{2}\\sum_\\mu(y^{\\mu}-\\hat{y}^{\\mu}) = \\frac{1}{2}\\sum_\\mu(y^{\\mu}-f(\\sum_iw_ix_{i}^{mu}))^2$$\n",
    "- $\\mu$ is the number of records, $i$ is the number of variables \n",
    "- let first take a look at the gradient for one record\n",
    "- now, take the derative of out cost function in terms of $w_i$:\n",
    "$$\\frac{d}{dw_i}=-(y-\\hat{y})f'(h)x_i$$\n",
    "- $f'(h)$ is the derative of the activation function, $\\eta$ is the learning rate\n",
    "- $$\\Delta w_i = \\eta(y-\\hat{y})f'(h)x_i$$\n",
    "- we define error term: $$\\delta = (y-\\hat{y})f'(h)$$\n",
    "- now our weight update is: $$w_i = w_i + \\eta\\delta x_i$$\n"
   ]
  },
  {
   "cell_type": "markdown",
   "metadata": {},
   "source": [
    "#### Now let's implement it "
   ]
  },
  {
   "cell_type": "code",
   "execution_count": 3,
   "metadata": {
    "collapsed": true
   },
   "outputs": [],
   "source": [
    "# Defining the sigmoid function for activations\n",
    "def sigmoid(x):\n",
    "    return 1/(1+np.exp(-x))     # is it basically what used in logistic regression \n",
    "# Derivative of the sigmoid function\n",
    "def sigmoid_prime(x):\n",
    "    return sigmoid(x) * (1 - sigmoid(x))"
   ]
  },
  {
   "cell_type": "markdown",
   "metadata": {},
   "source": [
    "\n",
    "##### calssification of school admition "
   ]
  },
  {
   "cell_type": "code",
   "execution_count": 10,
   "metadata": {
    "collapsed": false
   },
   "outputs": [
    {
     "name": "stdout",
     "output_type": "stream",
     "text": [
      "features size: (360, 6)\n",
      "target size: (360,)\n"
     ]
    }
   ],
   "source": [
    "import numpy as np\n",
    "from data_prep import features, targets, features_test, targets_test\n",
    "\n",
    "print('features size:',features.shape)\n",
    "print('target size:', targets.shape)"
   ]
  },
  {
   "cell_type": "markdown",
   "metadata": {},
   "source": [
    "##### in real world, we will vectorized this, but for now, let's just iterate through them "
   ]
  },
  {
   "cell_type": "code",
   "execution_count": 16,
   "metadata": {
    "collapsed": false
   },
   "outputs": [
    {
     "name": "stdout",
     "output_type": "stream",
     "text": [
      "0\n",
      "Train loss:  0.26276093849966364\n",
      "200\n",
      "Train loss:  0.20084292908073417\n",
      "400\n",
      "Train loss:  0.19779851396686018\n",
      "600\n",
      "Train loss:  0.19723507746241067\n",
      "800\n",
      "Train loss:  0.19706766341315074\n"
     ]
    }
   ],
   "source": [
    "# Use to same seed to make debugging easier\n",
    "np.random.seed(42)\n",
    "n_records, n_features = features.shape                                ## get number of observation and number of variables \n",
    "last_loss = None                                                      ## set cost function to be none as initiation \n",
    "## it is common to initiat random small weights as 1 / n_features**.5\n",
    "weights = np.random.normal(scale=1 / n_features**.5, size=n_features) # Initialize weights\n",
    "# Neural Network hyperparameters\n",
    "epochs = 1000           ## number of iteration                                              \n",
    "learnrate = 0.5         ## learning rate \n",
    "\n",
    "for e in range(epochs):                        # run 1000 iterations\n",
    "    del_w = np.zeros(weights.shape)\n",
    "    for x, y in zip(features.values, targets): # Loop through all records, x is the input, y is the target\n",
    "        output = sigmoid(np.dot(x,weights))          # Calculate the output\n",
    "        error = y-output                             # calculate the error\n",
    "        error_term = error * output * (1 - output)   # error term \\eta\n",
    "        del_w += error_term*x                        # and add it to the total weight change\n",
    "        ## del_w is a vector of 6 items \n",
    "        ## end if inner loop\n",
    "        \n",
    "    weights += learnrate * del_w / n_records         # take the average change and update it \n",
    "    \n",
    "    # Printing out the mean square error on the training set\n",
    "    if e % (epochs / 5) == 0:   ## print out 5 results \n",
    "        print(e)\n",
    "        out = sigmoid(np.dot(features, weights))\n",
    "        loss = np.mean((out - targets) ** 2)\n",
    "        if last_loss and last_loss < loss:\n",
    "            print(\"Train loss: \", loss, \"  WARNING - Loss Increasing\")\n",
    "        else:\n",
    "            print(\"Train loss: \", loss)\n",
    "        last_loss = loss"
   ]
  },
  {
   "cell_type": "code",
   "execution_count": 17,
   "metadata": {
    "collapsed": false
   },
   "outputs": [
    {
     "name": "stdout",
     "output_type": "stream",
     "text": [
      "Prediction accuracy: 0.725\n"
     ]
    }
   ],
   "source": [
    "# Calculate accuracy on test data\n",
    "tes_out = sigmoid(np.dot(features_test, weights))\n",
    "predictions = tes_out > 0.5\n",
    "accuracy = np.mean(predictions == targets_test)\n",
    "print(\"Prediction accuracy: {:.3f}\".format(accuracy))"
   ]
  },
  {
   "cell_type": "code",
   "execution_count": null,
   "metadata": {
    "collapsed": true
   },
   "outputs": [],
   "source": []
  }
 ],
 "metadata": {
  "kernelspec": {
   "display_name": "Python 3",
   "language": "python",
   "name": "python3"
  },
  "language_info": {
   "codemirror_mode": {
    "name": "ipython",
    "version": 3
   },
   "file_extension": ".py",
   "mimetype": "text/x-python",
   "name": "python",
   "nbconvert_exporter": "python",
   "pygments_lexer": "ipython3",
   "version": "3.6.0"
  }
 },
 "nbformat": 4,
 "nbformat_minor": 2
}
