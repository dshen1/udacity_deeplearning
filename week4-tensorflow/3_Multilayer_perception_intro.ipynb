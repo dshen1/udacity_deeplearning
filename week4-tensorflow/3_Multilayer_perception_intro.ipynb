{
 "cells": [
  {
   "cell_type": "markdown",
   "metadata": {},
   "source": [
    "#### Multilayer_perceptron in tensorflow"
   ]
  },
  {
   "cell_type": "code",
   "execution_count": 1,
   "metadata": {
    "collapsed": false
   },
   "outputs": [
    {
     "name": "stdout",
     "output_type": "stream",
     "text": [
      "Successfully downloaded train-images-idx3-ubyte.gz 9912422 bytes.\n",
      "Extracting ./train-images-idx3-ubyte.gz\n",
      "Successfully downloaded train-labels-idx1-ubyte.gz 28881 bytes.\n",
      "Extracting ./train-labels-idx1-ubyte.gz\n",
      "Successfully downloaded t10k-images-idx3-ubyte.gz 1648877 bytes.\n",
      "Extracting ./t10k-images-idx3-ubyte.gz\n",
      "Successfully downloaded t10k-labels-idx1-ubyte.gz 4542 bytes.\n",
      "Extracting ./t10k-labels-idx1-ubyte.gz\n"
     ]
    }
   ],
   "source": [
    "from tensorflow.examples.tutorials.mnist import input_data\n",
    "mnist = input_data.read_data_sets(\".\", one_hot=True, reshape=False)\n",
    "\n",
    "import tensorflow as tf\n",
    "import numpy as np\n",
    "import math\n",
    "from tqdm import tqdm\n",
    "import pandas as pd"
   ]
  },
  {
   "cell_type": "code",
   "execution_count": 2,
   "metadata": {
    "collapsed": true
   },
   "outputs": [],
   "source": [
    "## clear default graph \n",
    "tf.reset_default_graph()"
   ]
  },
  {
   "cell_type": "markdown",
   "metadata": {},
   "source": [
    "#### 1. set up hyper premeter \n",
    "- with dropout option"
   ]
  },
  {
   "cell_type": "code",
   "execution_count": 3,
   "metadata": {
    "collapsed": true
   },
   "outputs": [],
   "source": [
    "save_file = './train_model.ckpt'    ## give a name for saving the model \n",
    "\n",
    "learning_rate = 0.001\n",
    "training_epochs = 40\n",
    "batch_size = 128               # Decrease batch size if you don't have enough memory\n",
    "display_step = 1\n",
    "\n",
    "n_input = 784                  # MNIST data input (img shape: 28*28)\n",
    "n_classes = 10                 # MNIST total classes (0-9 digits)\n",
    "\n",
    "n_hidden_layer = 256           # layer number of features\n",
    "\n",
    "# use dropout\n",
    "keep_rate = 0.5                ## if keep prob == 1 then, there is no dropout"
   ]
  },
  {
   "cell_type": "markdown",
   "metadata": {},
   "source": [
    "#### 2.  Store layers weight & bias"
   ]
  },
  {
   "cell_type": "code",
   "execution_count": 4,
   "metadata": {
    "collapsed": true
   },
   "outputs": [],
   "source": [
    "weights = {\n",
    "    'hidden_layer': tf.Variable(tf.random_normal([n_input,n_hidden_layer])),\n",
    "    'out': tf.Variable(tf.random_normal([n_hidden_layer,n_classes]))\n",
    "}\n",
    "biases = {\n",
    "    'hidden_layer': tf.Variable(tf.random_normal([n_hidden_layer])),\n",
    "    'out': tf.Variable(tf.random_normal([n_classes]))\n",
    "}"
   ]
  },
  {
   "cell_type": "markdown",
   "metadata": {},
   "source": [
    "#### 3. Build Graph \n",
    "- with dropout"
   ]
  },
  {
   "cell_type": "code",
   "execution_count": 5,
   "metadata": {
    "collapsed": true
   },
   "outputs": [],
   "source": [
    "## keep probability for drop out\n",
    "keep_prob = tf.placeholder(tf.float32)\n",
    "\n",
    "## input layer \n",
    "x = tf.placeholder(\"float\",[None,28,28,1])      ## because out data is in grey scale, so only has 1 channel \n",
    "y = tf.placeholder(\"float\",[None,n_classes])\n",
    "x_flat = tf.reshape(x,[-1,n_input])             ## this will reshape a 28 X 28 matrix into a row vector\n",
    "\n",
    "## hidden layer \n",
    "layer_1 = tf.add(tf.matmul(x_flat,weights['hidden_layer']),biases['hidden_layer'])\n",
    "layer_1 = tf.nn.relu(layer_1)\n",
    "layer_1 = tf.nn.dropout(layer_1,keep_prob)      ## apply dropout \n",
    "\n",
    "## output layer with linear ativateion \n",
    "logits = tf.add(tf.matmul(layer_1,weights['out']),biases['out'])    ## output layer is a linear operation"
   ]
  },
  {
   "cell_type": "markdown",
   "metadata": {},
   "source": [
    "#### 4. Optimizer "
   ]
  },
  {
   "cell_type": "code",
   "execution_count": 6,
   "metadata": {
    "collapsed": false
   },
   "outputs": [],
   "source": [
    "cost = tf.reduce_mean(tf.nn.softmax_cross_entropy_with_logits(logits=logits,labels=y))\n",
    "optimizer = tf.train.GradientDescentOptimizer(learning_rate=learning_rate).minimize(cost)"
   ]
  },
  {
   "cell_type": "markdown",
   "metadata": {},
   "source": [
    "#### 5. calculate acuracy"
   ]
  },
  {
   "cell_type": "code",
   "execution_count": 7,
   "metadata": {
    "collapsed": false
   },
   "outputs": [],
   "source": [
    "correct_prediction = tf.equal(tf.argmax(logits,1),tf.argmax(y,1))\n",
    "accuracy = tf.reduce_mean(tf.cast(correct_prediction,tf.float32))"
   ]
  },
  {
   "cell_type": "markdown",
   "metadata": {},
   "source": [
    "#### 6. Run in session and save the model "
   ]
  },
  {
   "cell_type": "code",
   "execution_count": 8,
   "metadata": {
    "collapsed": false
   },
   "outputs": [
    {
     "name": "stdout",
     "output_type": "stream",
     "text": [
      "Epoch 0   - Validation Accuracy: 0.3877090811729431\n",
      "Epoch 10  - Validation Accuracy: 0.8102545738220215\n",
      "Epoch 20  - Validation Accuracy: 0.847672700881958\n",
      "Epoch 30  - Validation Accuracy: 0.8632000088691711\n",
      "Trained Model Saved.\n"
     ]
    }
   ],
   "source": [
    "init = tf.global_variables_initializer()     ## initializer \n",
    "saver = tf.train.Saver()\n",
    "train_acc_list = []\n",
    "valid_acc_list = []\n",
    "loss_list = []\n",
    "\n",
    "with tf.Session() as sess:\n",
    "    sess.run(init)                           ## run initializer\n",
    "    ## train cycles \n",
    "    epoch = None\n",
    "    valid_accuracy = None\n",
    "    #epoch_pbar = tqdm(range(training_epochs), desc='Epoch: {}, Validation Accuracy: {}'.format(epoch, valid_accuracy), unit='epoches')\n",
    "    for epoch in range(training_epochs):   ## use tqdm for process bar \n",
    "        total_batch = math.ceil(mnist.train.num_examples/batch_size)\n",
    "        ## loop over all batches \n",
    "        for i in range(total_batch):\n",
    "            batch_x, batch_y = mnist.train.next_batch(batch_size)\n",
    "            _,loss = sess.run([optimizer,cost], feed_dict={x: batch_x, y: batch_y,keep_prob: keep_rate})\n",
    "    \n",
    "        # Calculate Training and Validation accuracy\n",
    "        training_accuracy = sess.run(accuracy,feed_dict={\n",
    "                    x: mnist.train.images,\n",
    "                    y: mnist.train.labels,\n",
    "                    keep_prob: 1.0})\n",
    "        validation_accuracy = sess.run(accuracy, feed_dict={\n",
    "                    x: mnist.train.images,\n",
    "                    y: mnist.train.labels,\n",
    "                    keep_prob: 1.0})\n",
    "        # Log accuracy\n",
    "        loss_list.append(loss)\n",
    "        train_acc_list.append(training_accuracy)\n",
    "        valid_acc_list.append(validation_accuracy)\n",
    "                               \n",
    "        ## print status for every 10 epochs \n",
    "        if epoch % 10 == 0:\n",
    "            print('Epoch {:<3} - Validation Accuracy: {}'.format(\n",
    "                epoch,\n",
    "                validation_accuracy))\n",
    "            \n",
    "    ####################################\n",
    "    ## save the model for future use####\n",
    "    ####################################\n",
    "    saver.save(sess, save_file)\n",
    "    print('Trained Model Saved.')"
   ]
  },
  {
   "cell_type": "markdown",
   "metadata": {},
   "source": [
    "#### 7.Visualize loss and accuracy "
   ]
  },
  {
   "cell_type": "code",
   "execution_count": 9,
   "metadata": {
    "collapsed": false
   },
   "outputs": [
    {
     "name": "stderr",
     "output_type": "stream",
     "text": [
      "/home/ubuntu/anaconda3/lib/python3.6/site-packages/matplotlib/font_manager.py:1297: UserWarning: findfont: Font family ['sans-serif'] not found. Falling back to DejaVu Sans\n",
      "  (prop.get_family(), self.defaultFamily[fontext]))\n"
     ]
    },
    {
     "data": {
      "image/png": "[encoded data removed]",
      "text/plain": [
       "<matplotlib.figure.Figure at 0x7f6ca80dcb00>"
      ]
     },
     "metadata": {},
     "output_type": "display_data"
    }
   ],
   "source": [
    "import matplotlib.pylab as plt\n",
    "import seaborn as sns\n",
    "%matplotlib inline\n",
    "\n",
    "df = pd.DataFrame(list(zip(loss_list,train_acc_list,valid_acc_list)),columns=['loss','train_acc','valid_acc'])\n",
    "\n",
    "figsize=(8, 4)\n",
    "fig = plt.figure(figsize=figsize)\n",
    "layout = (2, 1)\n",
    "loss_chart   = plt.subplot2grid(layout, (0, 0))\n",
    "accuracy_chart = plt.subplot2grid(layout, (1, 0))\n",
    "loss_chart.set_title('Loss')\n",
    "accuracy_chart.set_title('Accuracy')\n",
    "df['loss'].plot(ax = loss_chart)\n",
    "df[['train_acc','valid_acc']].plot(ax=accuracy_chart)\n",
    "plt.tight_layout()\n",
    "plt.show()"
   ]
  },
  {
   "cell_type": "markdown",
   "metadata": {},
   "source": [
    "#### 8. Load the model back and do prediction "
   ]
  },
  {
   "cell_type": "code",
   "execution_count": 10,
   "metadata": {
    "collapsed": false
   },
   "outputs": [
    {
     "name": "stdout",
     "output_type": "stream",
     "text": [
      "Test Accuracy: 0.8777999877929688\n"
     ]
    }
   ],
   "source": [
    "save_file = './train_model.ckpt'\n",
    "saver = tf.train.Saver()\n",
    "\n",
    "# Launch the graph\n",
    "with tf.Session() as sess:\n",
    "    saver.restore(sess, save_file)\n",
    "\n",
    "    test_accuracy = sess.run(\n",
    "        accuracy,\n",
    "        feed_dict={x: mnist.test.images, y: mnist.test.labels, keep_prob: 1.0})\n",
    "\n",
    "print('Test Accuracy: {}'.format(test_accuracy))"
   ]
  }
 ],
 "metadata": {
  "kernelspec": {
   "display_name": "Python 3",
   "language": "python",
   "name": "python3"
  },
  "language_info": {
   "codemirror_mode": {
    "name": "ipython",
    "version": 3
   },
   "file_extension": ".py",
   "mimetype": "text/x-python",
   "name": "python",
   "nbconvert_exporter": "python",
   "pygments_lexer": "ipython3",
   "version": "3.6.0"
  }
 },
 "nbformat": 4,
 "nbformat_minor": 2
}
