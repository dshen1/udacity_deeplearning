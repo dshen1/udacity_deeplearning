{
 "cells": [
  {
   "cell_type": "markdown",
   "metadata": {
    "collapsed": true
   },
   "source": [
    "# Character Sequence to Sequence \n",
    "In this notebook, we'll build a model that takes in a sequence of letters, and outputs a sorted version of that sequence. We'll do that using what we've learned so far about Sequence to Sequence models.\n",
    "\n",
    "<img src=\"images/sequence-to-sequence.jpg\"/>\n",
    "\n",
    "\n",
    "## Dataset \n",
    "\n",
    "The dataset lives in the /data/ folder. At the moment, it is made up of the following files:\n",
    " * **letters_source.txt**: The list of input letter sequences. Each sequence is its own line. \n",
    " * **letters_target.txt**: The list of target sequences we'll use in the training process. Each sequence here is a response to the input sequence in letters_source.txt with the same line number."
   ]
  },
  {
   "cell_type": "code",
   "execution_count": 1,
   "metadata": {
    "collapsed": true,
    "scrolled": false
   },
   "outputs": [],
   "source": [
    "import helper\n",
    "\n",
    "source_path = 'data/letters_source.txt'\n",
    "target_path = 'data/letters_target.txt'\n",
    "\n",
    "source_sentences = helper.load_data(source_path)\n",
    "target_sentences = helper.load_data(target_path)"
   ]
  },
  {
   "cell_type": "markdown",
   "metadata": {},
   "source": [
    "Let's start by examining the current state of the dataset. `source_sentences` contains the entire input sequence file as text delimited by newline symbols."
   ]
  },
  {
   "cell_type": "code",
   "execution_count": 2,
   "metadata": {},
   "outputs": [
    {
     "data": {
      "text/plain": [
       "['bsaqq',\n",
       " 'npy',\n",
       " 'lbwuj',\n",
       " 'bqv',\n",
       " 'kial',\n",
       " 'tddam',\n",
       " 'edxpjpg',\n",
       " 'nspv',\n",
       " 'huloz',\n",
       " '']"
      ]
     },
     "execution_count": 2,
     "metadata": {},
     "output_type": "execute_result"
    }
   ],
   "source": [
    "source_sentences[:50].split('\\n')"
   ]
  },
  {
   "cell_type": "markdown",
   "metadata": {},
   "source": [
    "`target_sentences` contains the entire output sequence file as text delimited by newline symbols.  Each line corresponds to the line from `source_sentences`.  `target_sentences` contains a sorted characters of the line."
   ]
  },
  {
   "cell_type": "code",
   "execution_count": 3,
   "metadata": {},
   "outputs": [
    {
     "data": {
      "text/plain": [
       "['abqqs',\n",
       " 'npy',\n",
       " 'bjluw',\n",
       " 'bqv',\n",
       " 'aikl',\n",
       " 'addmt',\n",
       " 'degjppx',\n",
       " 'npsv',\n",
       " 'hlouz',\n",
       " '']"
      ]
     },
     "execution_count": 3,
     "metadata": {},
     "output_type": "execute_result"
    }
   ],
   "source": [
    "target_sentences[:50].split('\\n')"
   ]
  },
  {
   "cell_type": "markdown",
   "metadata": {},
   "source": [
    "## Preprocess\n",
    "To do anything useful with it, we'll need to turn the characters into a list of integers: "
   ]
  },
  {
   "cell_type": "code",
   "execution_count": 4,
   "metadata": {},
   "outputs": [
    {
     "name": "stdout",
     "output_type": "stream",
     "text": [
      "Example source sequence\n",
      "[[13, 18, 28, 26, 26], [12, 6, 15], [22, 13, 19, 9, 20]]\n",
      "\n",
      "\n",
      "Example target sequence\n",
      "[[28, 13, 26, 26, 18], [12, 6, 15], [13, 20, 22, 9, 19]]\n"
     ]
    }
   ],
   "source": [
    "def extract_character_vocab(data):\n",
    "    special_words = ['<pad>', '<unk>', '<s>',  '<\\s>']\n",
    "\n",
    "    set_words = set([character for line in data.split('\\n') for character in line])\n",
    "    int_to_vocab = {word_i: word for word_i, word in enumerate(special_words + list(set_words))}\n",
    "    vocab_to_int = {word: word_i for word_i, word in int_to_vocab.items()}\n",
    "\n",
    "    return int_to_vocab, vocab_to_int\n",
    "\n",
    "# Build int2letter and letter2int dicts\n",
    "source_int_to_letter, source_letter_to_int = extract_character_vocab(source_sentences)\n",
    "target_int_to_letter, target_letter_to_int = extract_character_vocab(target_sentences)\n",
    "\n",
    "# Convert characters to ids\n",
    "source_letter_ids = [[source_letter_to_int.get(letter, source_letter_to_int['<unk>']) for letter in line] for line in source_sentences.split('\\n')]\n",
    "target_letter_ids = [[target_letter_to_int.get(letter, target_letter_to_int['<unk>']) for letter in line] for line in target_sentences.split('\\n')]\n",
    "\n",
    "print(\"Example source sequence\")\n",
    "print(source_letter_ids[:3])\n",
    "print(\"\\n\")\n",
    "print(\"Example target sequence\")\n",
    "print(target_letter_ids[:3])"
   ]
  },
  {
   "cell_type": "markdown",
   "metadata": {},
   "source": [
    "The last step in the preprocessing stage is to determine the the longest sequence size in the dataset we'll be using, then pad all the sequences to that length."
   ]
  },
  {
   "cell_type": "code",
   "execution_count": 5,
   "metadata": {},
   "outputs": [
    {
     "name": "stdout",
     "output_type": "stream",
     "text": [
      "Sequence Length\n",
      "7\n",
      "\n",
      "\n",
      "Input sequence example\n",
      "[[13, 18, 28, 26, 26, 0, 0], [12, 6, 15, 0, 0, 0, 0], [22, 13, 19, 9, 20, 0, 0]]\n",
      "\n",
      "\n",
      "Target sequence example\n",
      "[[28, 13, 26, 26, 18, 0, 0], [12, 6, 15, 0, 0, 0, 0], [13, 20, 22, 9, 19, 0, 0]]\n"
     ]
    }
   ],
   "source": [
    "def pad_id_sequences(source_ids, source_letter_to_int, target_ids, target_letter_to_int, sequence_length):\n",
    "    new_source_ids = [sentence + [source_letter_to_int['<pad>']] * (sequence_length - len(sentence)) \\\n",
    "                      for sentence in source_ids]\n",
    "    new_target_ids = [sentence + [target_letter_to_int['<pad>']] * (sequence_length - len(sentence)) \\\n",
    "                      for sentence in target_ids]\n",
    "\n",
    "    return new_source_ids, new_target_ids\n",
    "\n",
    "\n",
    "# Use the longest sequence as sequence length\n",
    "sequence_length = max(\n",
    "        [len(sentence) for sentence in source_letter_ids] + [len(sentence) for sentence in target_letter_ids])\n",
    "\n",
    "# Pad all sequences up to sequence length\n",
    "source_ids, target_ids = pad_id_sequences(source_letter_ids, source_letter_to_int, \n",
    "                                          target_letter_ids, target_letter_to_int, sequence_length)\n",
    "\n",
    "print(\"Sequence Length\")\n",
    "print(sequence_length)\n",
    "print(\"\\n\")\n",
    "print(\"Input sequence example\")\n",
    "print(source_ids[:3])\n",
    "print(\"\\n\")\n",
    "print(\"Target sequence example\")\n",
    "print(target_ids[:3])"
   ]
  },
  {
   "cell_type": "markdown",
   "metadata": {},
   "source": [
    "This is the final shape we need them to be in. We can now proceed to building the model."
   ]
  },
  {
   "cell_type": "markdown",
   "metadata": {},
   "source": [
    "### Sequence to Sequence\n",
    "The decoder is probably the most complex part of this model. We need to declare a decoder for the training phase, and a decoder for the inference/prediction phase. These two decoders will share their parameters (so that all the weights and biases that are set during the training phase can be used when we deploy the model).\n",
    "\n",
    "\n",
    "First, we'll need to define the type of cell we'll be using for our decoder RNNs. We opted for LSTM.\n",
    "\n",
    "Then, we'll need to hookup a fully connected layer to the output of decoder. The output of this layer tells us which word the RNN is choosing to output at each time step.\n",
    "\n",
    "Let's first look at the inference/prediction decoder. It is the one we'll use when we deploy our chatbot to the wild (even though it comes second in the actual code).\n",
    "\n",
    "<img src=\"images/sequence-to-sequence-inference-decoder.png\"/>\n",
    "\n",
    "We'll hand our encoder hidden state to the inference decoder and have it process its output. TensorFlow handles most of the logic for us. We just have to use [`tf.contrib.seq2seq.simple_decoder_fn_inference`](https://www.tensorflow.org/api_docs/python/tf/contrib/seq2seq/simple_decoder_fn_inference) and [`tf.contrib.seq2seq.dynamic_rnn_decoder`](https://www.tensorflow.org/api_docs/python/tf/contrib/seq2seq/dynamic_rnn_decoder) and supply them with the appropriate inputs.\n",
    "\n",
    "Notice that the inference decoder feeds the output of each time step as an input to the next.\n",
    "\n",
    "As for the training decoder, we can think of it as looking like this:\n",
    "<img src=\"images/sequence-to-sequence-training-decoder.png\"/>\n",
    "\n",
    "The training decoder **does not** feed the output of each time step to the next. Rather, the inputs to the decoder time steps are the target sequence from the training dataset (the orange letters)."
   ]
  },
  {
   "cell_type": "markdown",
   "metadata": {},
   "source": [
    "## Model\n",
    "#### Check the Version of TensorFlow\n",
    "This will check to make sure you have the correct version of TensorFlow"
   ]
  },
  {
   "cell_type": "code",
   "execution_count": 6,
   "metadata": {},
   "outputs": [
    {
     "name": "stdout",
     "output_type": "stream",
     "text": [
      "TensorFlow Version: 1.0.1\n"
     ]
    }
   ],
   "source": [
    "from distutils.version import LooseVersion\n",
    "import tensorflow as tf\n",
    "tf.reset_default_graph()\n",
    "# Check TensorFlow Version\n",
    "assert LooseVersion(tf.__version__) >= LooseVersion('1.0'), 'Please use TensorFlow version 1.0 or newer'\n",
    "print('TensorFlow Version: {}'.format(tf.__version__))"
   ]
  },
  {
   "cell_type": "markdown",
   "metadata": {},
   "source": [
    "### Hyperparameters"
   ]
  },
  {
   "cell_type": "code",
   "execution_count": 7,
   "metadata": {
    "collapsed": true
   },
   "outputs": [],
   "source": [
    "# Number of Epochs\n",
    "epochs = 60\n",
    "# Batch Size\n",
    "batch_size = 128\n",
    "# RNN Size\n",
    "rnn_size = 50\n",
    "# Number of Layers\n",
    "num_layers = 2\n",
    "# Embedding Size\n",
    "encoding_embedding_size = 13\n",
    "decoding_embedding_size = 13\n",
    "# Learning Rate\n",
    "learning_rate = 0.001\n",
    "#keep probability \n",
    "keep_prob=1"
   ]
  },
  {
   "cell_type": "markdown",
   "metadata": {},
   "source": [
    "### Input"
   ]
  },
  {
   "cell_type": "code",
   "execution_count": 8,
   "metadata": {
    "collapsed": true
   },
   "outputs": [],
   "source": [
    "input_data = tf.placeholder(tf.int32, [batch_size, sequence_length])\n",
    "targets = tf.placeholder(tf.int32, [batch_size, sequence_length])\n",
    "lr = tf.placeholder(tf.float32)"
   ]
  },
  {
   "cell_type": "code",
   "execution_count": 9,
   "metadata": {},
   "outputs": [
    {
     "data": {
      "text/plain": [
       "<tf.Tensor 'Placeholder:0' shape=(128, 7) dtype=int32>"
      ]
     },
     "execution_count": 9,
     "metadata": {},
     "output_type": "execute_result"
    }
   ],
   "source": [
    "input_data"
   ]
  },
  {
   "cell_type": "code",
   "execution_count": 10,
   "metadata": {},
   "outputs": [
    {
     "data": {
      "text/plain": [
       "<tf.Tensor 'Placeholder_1:0' shape=(128, 7) dtype=int32>"
      ]
     },
     "execution_count": 10,
     "metadata": {},
     "output_type": "execute_result"
    }
   ],
   "source": [
    "targets"
   ]
  },
  {
   "cell_type": "code",
   "execution_count": 11,
   "metadata": {
    "collapsed": true
   },
   "outputs": [],
   "source": [
    "## slice each time step into its' own tensor\n",
    "def slice_inputs(inputs,length):\n",
    "    inputs =  tf.split(inputs, sequence_length, 1)\n",
    "    inputs = [tf.squeeze(input_, [1]) for input_ in inputs]\n",
    "    return inputs"
   ]
  },
  {
   "cell_type": "code",
   "execution_count": 12,
   "metadata": {
    "collapsed": true
   },
   "outputs": [],
   "source": [
    "# slice inputs\n",
    "inputs = slice_inputs(input_data,sequence_length)\n",
    "#process decode input - slice decod inputs\n",
    "ending = tf.strided_slice(targets, [0, 0], [batch_size, -1], [1, 1]) \n",
    "dec_input = tf.concat([tf.fill([batch_size, 1], target_letter_to_int['<s>']), ending], 1)\n",
    "dec_input = slice_inputs(dec_input,sequence_length)\n",
    "#slice targets\n",
    "labels = slice_inputs(targets,sequence_length)"
   ]
  },
  {
   "cell_type": "code",
   "execution_count": 13,
   "metadata": {
    "collapsed": true
   },
   "outputs": [],
   "source": [
    "# define lstm cell\n",
    "def basic_cell(rnn_size,keep_prob):  \n",
    "    lstm = tf.contrib.rnn.DropoutWrapper(\n",
    "                    tf.contrib.rnn.BasicLSTMCell(rnn_size, state_is_tuple=True),\n",
    "                    output_keep_prob=keep_prob)\n",
    "    return lstm\n",
    "\n",
    "stacked_lstm = tf.contrib.rnn.MultiRNNCell([basic_cell(rnn_size,keep_prob) for _ in range(num_layers)], state_is_tuple=True)"
   ]
  },
  {
   "cell_type": "code",
   "execution_count": 14,
   "metadata": {
    "collapsed": true
   },
   "outputs": [],
   "source": [
    "source_vocab_size = len(source_letter_to_int)\n",
    "target_vocab_size = len(target_letter_to_int)"
   ]
  },
  {
   "cell_type": "code",
   "execution_count": 15,
   "metadata": {
    "collapsed": true
   },
   "outputs": [],
   "source": [
    "with tf.variable_scope('decoder') as scope:\n",
    "    # build the seq2seq model \n",
    "    #  inputs : encoder, decoder inputs, LSTM cell type, vocabulary sizes, embedding dimensions\n",
    "    decode_outputs, decode_states = tf.contrib.legacy_seq2seq.embedding_rnn_seq2seq(inputs,dec_input, stacked_lstm,\n",
    "                                        source_vocab_size, target_vocab_size, encoding_embedding_size)\n",
    "    # share parameters\n",
    "    scope.reuse_variables()\n",
    "    # testing model, where output of previous timestep is fed as input \n",
    "    #  to the next timestep\n",
    "    decode_outputs_test,decode_states_test = tf.contrib.legacy_seq2seq.embedding_rnn_seq2seq(inputs,dec_input, stacked_lstm,\n",
    "                                        source_vocab_size, target_vocab_size, encoding_embedding_size,feed_previous=True)"
   ]
  },
  {
   "cell_type": "code",
   "execution_count": 16,
   "metadata": {},
   "outputs": [
    {
     "data": {
      "text/plain": [
       "<tf.Tensor 'decoder/embedding_rnn_seq2seq/embedding_rnn_decoder/rnn_decoder/output_projection_wrapper/BiasAdd:0' shape=(128, 30) dtype=float32>"
      ]
     },
     "execution_count": 16,
     "metadata": {},
     "output_type": "execute_result"
    }
   ],
   "source": [
    "decode_outputs[0]"
   ]
  },
  {
   "cell_type": "markdown",
   "metadata": {},
   "source": [
    "### Optimization\n",
    "Our loss function is [`tf.contrib.seq2seq.sequence_loss`](https://www.tensorflow.org/api_docs/python/tf/contrib/seq2seq/sequence_loss) provided by the tensor flow seq2seq module. It calculates a weighted cross-entropy loss for the output logits."
   ]
  },
  {
   "cell_type": "code",
   "execution_count": 17,
   "metadata": {
    "collapsed": true
   },
   "outputs": [],
   "source": [
    "# Loss function\n",
    "loss_weights = [ tf.ones_like(label, dtype=tf.float32) for label in labels ]\n",
    "cost = tf.contrib.legacy_seq2seq.sequence_loss(decode_outputs,labels,loss_weights)\n",
    "\n",
    "# Optimizer\n",
    "optimizer = tf.train.AdamOptimizer(lr)\n",
    "\n",
    "# Gradient Clipping\n",
    "gradients = optimizer.compute_gradients(cost)\n",
    "capped_gradients = [(tf.clip_by_value(grad, -1., 1.), var) for grad, var in gradients if grad is not None]\n",
    "train_op = optimizer.apply_gradients(capped_gradients)"
   ]
  },
  {
   "cell_type": "code",
   "execution_count": 19,
   "metadata": {},
   "outputs": [
    {
     "data": {
      "text/plain": [
       "[<tf.Tensor 'decoder/embedding_rnn_seq2seq_1/embedding_rnn_decoder/rnn_decoder/output_projection_wrapper/BiasAdd:0' shape=(128, 30) dtype=float32>,\n",
       " <tf.Tensor 'decoder/embedding_rnn_seq2seq_1/embedding_rnn_decoder/rnn_decoder/output_projection_wrapper_1/BiasAdd:0' shape=(128, 30) dtype=float32>,\n",
       " <tf.Tensor 'decoder/embedding_rnn_seq2seq_1/embedding_rnn_decoder/rnn_decoder/output_projection_wrapper_2/BiasAdd:0' shape=(128, 30) dtype=float32>,\n",
       " <tf.Tensor 'decoder/embedding_rnn_seq2seq_1/embedding_rnn_decoder/rnn_decoder/output_projection_wrapper_3/BiasAdd:0' shape=(128, 30) dtype=float32>,\n",
       " <tf.Tensor 'decoder/embedding_rnn_seq2seq_1/embedding_rnn_decoder/rnn_decoder/output_projection_wrapper_4/BiasAdd:0' shape=(128, 30) dtype=float32>,\n",
       " <tf.Tensor 'decoder/embedding_rnn_seq2seq_1/embedding_rnn_decoder/rnn_decoder/output_projection_wrapper_5/BiasAdd:0' shape=(128, 30) dtype=float32>,\n",
       " <tf.Tensor 'decoder/embedding_rnn_seq2seq_1/embedding_rnn_decoder/rnn_decoder/output_projection_wrapper_6/BiasAdd:0' shape=(128, 30) dtype=float32>]"
      ]
     },
     "execution_count": 19,
     "metadata": {},
     "output_type": "execute_result"
    }
   ],
   "source": [
    "decode_outputs_test"
   ]
  },
  {
   "cell_type": "code",
   "execution_count": 20,
   "metadata": {},
   "outputs": [
    {
     "data": {
      "text/plain": [
       "[<tf.Tensor 'Squeeze_14:0' shape=(128,) dtype=int32>,\n",
       " <tf.Tensor 'Squeeze_15:0' shape=(128,) dtype=int32>,\n",
       " <tf.Tensor 'Squeeze_16:0' shape=(128,) dtype=int32>,\n",
       " <tf.Tensor 'Squeeze_17:0' shape=(128,) dtype=int32>,\n",
       " <tf.Tensor 'Squeeze_18:0' shape=(128,) dtype=int32>,\n",
       " <tf.Tensor 'Squeeze_19:0' shape=(128,) dtype=int32>,\n",
       " <tf.Tensor 'Squeeze_20:0' shape=(128,) dtype=int32>]"
      ]
     },
     "execution_count": 20,
     "metadata": {},
     "output_type": "execute_result"
    }
   ],
   "source": [
    "labels"
   ]
  },
  {
   "cell_type": "code",
   "execution_count": 23,
   "metadata": {},
   "outputs": [
    {
     "data": {
      "text/plain": [
       "7"
      ]
     },
     "execution_count": 23,
     "metadata": {},
     "output_type": "execute_result"
    }
   ],
   "source": [
    "len(target_batch[0])"
   ]
  },
  {
   "cell_type": "markdown",
   "metadata": {},
   "source": [
    "## Train\n",
    "We're now ready to train our model. If you run into OOM (out of memory) issues during training, try to decrease the batch_size."
   ]
  },
  {
   "cell_type": "code",
   "execution_count": 24,
   "metadata": {
    "collapsed": true
   },
   "outputs": [],
   "source": [
    "def evel_accuracy(logits_list):\n",
    "    logits = np.array(logits_list).transpose(1,0,2)\n",
    "    pred = np.argmax(logits,2)\n",
    "    return pred"
   ]
  },
  {
   "cell_type": "code",
   "execution_count": 31,
   "metadata": {
    "scrolled": true
   },
   "outputs": [
    {
     "name": "stdout",
     "output_type": "stream",
     "text": [
      "Epoch   0 Batch   76/78 - Train Accuracy:  0.425, Validation Accuracy:  0.473, Loss:  2.089\n",
      "Epoch   1 Batch   76/78 - Train Accuracy:  0.494, Validation Accuracy:  0.533, Loss:  1.638\n",
      "Epoch   2 Batch   76/78 - Train Accuracy:  0.584, Validation Accuracy:  0.619, Loss:  1.327\n",
      "Epoch   3 Batch   76/78 - Train Accuracy:  0.636, Validation Accuracy:  0.664, Loss:  1.160\n",
      "Epoch   4 Batch   76/78 - Train Accuracy:  0.662, Validation Accuracy:  0.680, Loss:  1.047\n",
      "Epoch   5 Batch   76/78 - Train Accuracy:  0.690, Validation Accuracy:  0.705, Loss:  0.923\n",
      "Epoch   6 Batch   76/78 - Train Accuracy:  0.706, Validation Accuracy:  0.723, Loss:  0.900\n",
      "Epoch   7 Batch   76/78 - Train Accuracy:  0.734, Validation Accuracy:  0.747, Loss:  0.790\n",
      "Epoch   8 Batch   76/78 - Train Accuracy:  0.729, Validation Accuracy:  0.751, Loss:  0.722\n",
      "Epoch   9 Batch   76/78 - Train Accuracy:  0.742, Validation Accuracy:  0.744, Loss:  0.691\n",
      "Epoch  10 Batch   76/78 - Train Accuracy:  0.752, Validation Accuracy:  0.790, Loss:  0.655\n",
      "Epoch  11 Batch   76/78 - Train Accuracy:  0.767, Validation Accuracy:  0.795, Loss:  0.561\n",
      "Epoch  12 Batch   76/78 - Train Accuracy:  0.772, Validation Accuracy:  0.781, Loss:  0.560\n",
      "Epoch  13 Batch   76/78 - Train Accuracy:  0.758, Validation Accuracy:  0.770, Loss:  0.517\n",
      "Epoch  14 Batch   76/78 - Train Accuracy:  0.788, Validation Accuracy:  0.786, Loss:  0.450\n",
      "Epoch  15 Batch   76/78 - Train Accuracy:  0.779, Validation Accuracy:  0.828, Loss:  0.452\n",
      "Epoch  16 Batch   76/78 - Train Accuracy:  0.795, Validation Accuracy:  0.807, Loss:  0.450\n",
      "Epoch  17 Batch   76/78 - Train Accuracy:  0.799, Validation Accuracy:  0.808, Loss:  0.395\n",
      "Epoch  18 Batch   76/78 - Train Accuracy:  0.816, Validation Accuracy:  0.821, Loss:  0.371\n",
      "Epoch  19 Batch   76/78 - Train Accuracy:  0.817, Validation Accuracy:  0.815, Loss:  0.361\n",
      "Epoch  20 Batch   76/78 - Train Accuracy:  0.836, Validation Accuracy:  0.826, Loss:  0.343\n",
      "Epoch  21 Batch   76/78 - Train Accuracy:  0.853, Validation Accuracy:  0.844, Loss:  0.301\n",
      "Epoch  22 Batch   76/78 - Train Accuracy:  0.857, Validation Accuracy:  0.859, Loss:  0.297\n",
      "Epoch  23 Batch   76/78 - Train Accuracy:  0.838, Validation Accuracy:  0.860, Loss:  0.285\n",
      "Epoch  24 Batch   76/78 - Train Accuracy:  0.853, Validation Accuracy:  0.857, Loss:  0.257\n",
      "Epoch  25 Batch   76/78 - Train Accuracy:  0.842, Validation Accuracy:  0.881, Loss:  0.264\n",
      "Epoch  26 Batch   76/78 - Train Accuracy:  0.855, Validation Accuracy:  0.871, Loss:  0.246\n",
      "Epoch  27 Batch   76/78 - Train Accuracy:  0.884, Validation Accuracy:  0.866, Loss:  0.239\n",
      "Epoch  28 Batch   76/78 - Train Accuracy:  0.825, Validation Accuracy:  0.866, Loss:  0.224\n",
      "Epoch  29 Batch   76/78 - Train Accuracy:  0.881, Validation Accuracy:  0.905, Loss:  0.217\n",
      "Epoch  30 Batch   76/78 - Train Accuracy:  0.898, Validation Accuracy:  0.878, Loss:  0.204\n",
      "Epoch  31 Batch   76/78 - Train Accuracy:  0.874, Validation Accuracy:  0.875, Loss:  0.208\n",
      "Epoch  32 Batch   76/78 - Train Accuracy:  0.871, Validation Accuracy:  0.876, Loss:  0.185\n",
      "Epoch  33 Batch   76/78 - Train Accuracy:  0.901, Validation Accuracy:  0.862, Loss:  0.180\n",
      "Epoch  34 Batch   76/78 - Train Accuracy:  0.881, Validation Accuracy:  0.895, Loss:  0.171\n",
      "Epoch  35 Batch   76/78 - Train Accuracy:  0.886, Validation Accuracy:  0.902, Loss:  0.171\n",
      "Epoch  36 Batch   76/78 - Train Accuracy:  0.902, Validation Accuracy:  0.907, Loss:  0.158\n",
      "Epoch  37 Batch   76/78 - Train Accuracy:  0.892, Validation Accuracy:  0.894, Loss:  0.150\n",
      "Epoch  38 Batch   76/78 - Train Accuracy:  0.886, Validation Accuracy:  0.887, Loss:  0.144\n",
      "Epoch  39 Batch   76/78 - Train Accuracy:  0.896, Validation Accuracy:  0.897, Loss:  0.169\n",
      "Epoch  40 Batch   76/78 - Train Accuracy:  0.914, Validation Accuracy:  0.897, Loss:  0.146\n",
      "Epoch  41 Batch   76/78 - Train Accuracy:  0.911, Validation Accuracy:  0.917, Loss:  0.179\n",
      "Epoch  42 Batch   76/78 - Train Accuracy:  0.907, Validation Accuracy:  0.897, Loss:  0.137\n",
      "Epoch  43 Batch   76/78 - Train Accuracy:  0.906, Validation Accuracy:  0.906, Loss:  0.177\n",
      "Epoch  44 Batch   76/78 - Train Accuracy:  0.906, Validation Accuracy:  0.929, Loss:  0.135\n",
      "Epoch  45 Batch   76/78 - Train Accuracy:  0.944, Validation Accuracy:  0.931, Loss:  0.128\n",
      "Epoch  46 Batch   76/78 - Train Accuracy:  0.917, Validation Accuracy:  0.941, Loss:  0.134\n",
      "Epoch  47 Batch   76/78 - Train Accuracy:  0.917, Validation Accuracy:  0.933, Loss:  0.109\n",
      "Epoch  48 Batch   76/78 - Train Accuracy:  0.930, Validation Accuracy:  0.907, Loss:  0.119\n",
      "Epoch  49 Batch   76/78 - Train Accuracy:  0.930, Validation Accuracy:  0.920, Loss:  0.112\n",
      "Epoch  50 Batch   76/78 - Train Accuracy:  0.934, Validation Accuracy:  0.926, Loss:  0.127\n",
      "Epoch  51 Batch   76/78 - Train Accuracy:  0.951, Validation Accuracy:  0.930, Loss:  0.120\n",
      "Epoch  52 Batch   76/78 - Train Accuracy:  0.927, Validation Accuracy:  0.933, Loss:  0.108\n",
      "Epoch  53 Batch   76/78 - Train Accuracy:  0.929, Validation Accuracy:  0.929, Loss:  0.106\n",
      "Epoch  54 Batch   76/78 - Train Accuracy:  0.936, Validation Accuracy:  0.933, Loss:  0.127\n",
      "Epoch  55 Batch   76/78 - Train Accuracy:  0.924, Validation Accuracy:  0.939, Loss:  0.120\n",
      "Epoch  56 Batch   76/78 - Train Accuracy:  0.926, Validation Accuracy:  0.943, Loss:  0.093\n",
      "Epoch  57 Batch   76/78 - Train Accuracy:  0.938, Validation Accuracy:  0.933, Loss:  0.121\n",
      "Epoch  58 Batch   76/78 - Train Accuracy:  0.924, Validation Accuracy:  0.938, Loss:  0.109\n",
      "Epoch  59 Batch   76/78 - Train Accuracy:  0.920, Validation Accuracy:  0.925, Loss:  0.108\n"
     ]
    }
   ],
   "source": [
    "import numpy as np\n",
    "\n",
    "sess = tf.InteractiveSession()\n",
    "\n",
    "train_source = source_ids[batch_size:]\n",
    "train_target = target_ids[batch_size:]\n",
    "\n",
    "valid_source = source_ids[:batch_size]\n",
    "valid_target = target_ids[:batch_size]\n",
    "\n",
    "sess.run(tf.global_variables_initializer())\n",
    "\n",
    "for epoch_i in range(epochs):\n",
    "    for batch_i, (source_batch, target_batch) in enumerate(\n",
    "            helper.batch_data(train_source, train_target, batch_size)):\n",
    "        _, loss = sess.run(\n",
    "            [train_op, cost],\n",
    "            {input_data: source_batch, targets: target_batch, lr: learning_rate})\n",
    "    batch_train_logits = sess.run(\n",
    "        decode_outputs_test,\n",
    "        {input_data: source_batch, targets: target_batch})\n",
    "    batch_valid_logits = sess.run(\n",
    "        decode_outputs_test,\n",
    "        {input_data: valid_source, targets: target_batch})\n",
    "\n",
    "    train_acc = np.mean(np.equal(target_batch, evel_accuracy(batch_train_logits)))\n",
    "    valid_acc = np.mean(np.equal(valid_target, evel_accuracy(batch_valid_logits)))\n",
    "    print('Epoch {:>3} Batch {:>4}/{} - Train Accuracy: {:>6.3f}, Validation Accuracy: {:>6.3f}, Loss: {:>6.3f}'\n",
    "          .format(epoch_i, batch_i, len(source_ids) // batch_size, train_acc, valid_acc, loss))\n"
   ]
  },
  {
   "cell_type": "markdown",
   "metadata": {},
   "source": [
    "## Prediction"
   ]
  },
  {
   "cell_type": "code",
   "execution_count": 45,
   "metadata": {},
   "outputs": [
    {
     "name": "stdout",
     "output_type": "stream",
     "text": [
      "Input\n",
      "  Word Ids:      [10, 14, 22, 22, 25, 0, 0]\n",
      "  Input Words: ['h', 'e', 'l', 'l', 'o', '<pad>', '<pad>']\n",
      "\n",
      "Prediction\n",
      "  Word Ids:      [14, 10, 22, 22, 25, 0, 0]\n",
      "  Chatbot Answer Words: ['e', 'h', 'l', 'l', 'o', '<pad>', '<pad>']\n"
     ]
    }
   ],
   "source": [
    "input_sentence = 'hello'\n",
    "\n",
    "\n",
    "input_sentence = [source_letter_to_int.get(word, source_letter_to_int['<unk>']) for word in input_sentence.lower()]\n",
    "input_sentence = input_sentence + [0] * (sequence_length - len(input_sentence))\n",
    "batch_shell = np.zeros((batch_size, sequence_length))\n",
    "batch_shell[0] = input_sentence\n",
    "chatbot_logits = sess.run(decode_outputs_test, {input_data: batch_shell,targets: batch_shell})\n",
    "chatbot_logits = np.argmax(np.array(chatbot_logits).transpose(1,0,2),2)[0,:]\n",
    "\n",
    "print('Input')\n",
    "print('  Word Ids:      {}'.format([i for i in input_sentence]))\n",
    "print('  Input Words: {}'.format([source_int_to_letter[i] for i in input_sentence]))\n",
    "\n",
    "print('\\nPrediction')\n",
    "print('  Word Ids:      {}'.format([i for i in chatbot_logits]))\n",
    "print('  Chatbot Answer Words: {}'.format([target_int_to_letter[i] for i in chatbot_logits]))"
   ]
  },
  {
   "cell_type": "code",
   "execution_count": null,
   "metadata": {
    "collapsed": true
   },
   "outputs": [],
   "source": []
  }
 ],
 "metadata": {
  "anaconda-cloud": {},
  "kernelspec": {
   "display_name": "Python 3",
   "language": "python",
   "name": "python3"
  },
  "language_info": {
   "codemirror_mode": {
    "name": "ipython",
    "version": 3
   },
   "file_extension": ".py",
   "mimetype": "text/x-python",
   "name": "python",
   "nbconvert_exporter": "python",
   "pygments_lexer": "ipython3",
   "version": "3.5.3"
  }
 },
 "nbformat": 4,
 "nbformat_minor": 1
}
