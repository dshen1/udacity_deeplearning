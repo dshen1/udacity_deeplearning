{
 "cells": [
  {
   "cell_type": "code",
   "execution_count": 1,
   "metadata": {
    "collapsed": true
   },
   "outputs": [],
   "source": [
    "# dependencies\n",
    "import tensorflow as tf\n",
    "import numpy as np\n",
    "from sklearn.model_selection import train_test_split\n",
    "import time\n",
    "import matplotlib.pyplot as plt\n",
    "import pickle"
   ]
  },
  {
   "cell_type": "markdown",
   "metadata": {},
   "source": [
    "### Load Data"
   ]
  },
  {
   "cell_type": "code",
   "execution_count": 2,
   "metadata": {
    "collapsed": true
   },
   "outputs": [],
   "source": [
    "def read_dataset(file_path):\n",
    "    with open(file_path, 'rb') as f:\n",
    "        return pickle.load(f) #,encoding='latin1'"
   ]
  },
  {
   "cell_type": "code",
   "execution_count": 3,
   "metadata": {
    "collapsed": true
   },
   "outputs": [],
   "source": [
    "## read all data into variables \n",
    "X,Y,X_max_length,Y_max_length,en_int_to_vocab,en_vocab_to_int,cn_int_to_vocab,cn_vocab_to_int = read_dataset('cn2en.p')"
   ]
  },
  {
   "cell_type": "code",
   "execution_count": 4,
   "metadata": {
    "scrolled": true
   },
   "outputs": [
    {
     "name": "stdout",
     "output_type": "stream",
     "text": [
      "Sentence in English - encoded: [953, 427, 91, 50, 4, 48180, 7362, 5, 4]\n",
      "Sentence in Chinese - encoded: [12, 175, 5, 564, 526, 127, 443, 394, 30, 1084, 366]\n",
      "Decoded:\n",
      "------------------------\n",
      " Keep fucking going !  Controlled aggression . \n",
      " 他 妈 的 继 续 啊 控 制 好 攻 击\n"
     ]
    }
   ],
   "source": [
    "# inspect data\n",
    "print ('Sentence in English - encoded:', X[2])\n",
    "print ('Sentence in Chinese - encoded:', Y[2])\n",
    "print ('Decoded:\\n------------------------')\n",
    "\n",
    "s=\"\"\n",
    "for i in range(len(X[2])):\n",
    "    s = s + \" \" + en_int_to_vocab[X[2][i]]\n",
    "print(s)\n",
    "\n",
    "s=\"\"\n",
    "for i in range(len(Y[2])):\n",
    "    s = s + \" \" + cn_int_to_vocab[Y[2][i]]\n",
    "print (s)"
   ]
  },
  {
   "cell_type": "markdown",
   "metadata": {},
   "source": [
    "### Data processing"
   ]
  },
  {
   "cell_type": "code",
   "execution_count": 5,
   "metadata": {
    "collapsed": true
   },
   "outputs": [],
   "source": [
    "# data padding\n",
    "\n",
    "def data_padding(x, y, length):\n",
    "    for i in range(len(x)):\n",
    "        x[i] = x[i] + (length - len(x[i])) * [en_vocab_to_int['<pad>']]\n",
    "        y[i] = [cn_vocab_to_int['<go>']] + y[i] + [cn_vocab_to_int['<eos>']] + (length-len(y[i])) * [cn_vocab_to_int['<pad>']]\n",
    "\n",
    "input_length = min(max(X_max_length,Y_max_length),50)\n",
    "        \n",
    "data_padding(X, Y,input_length)\n",
    "\n",
    "# data splitting\n",
    "X_train,  X_test, Y_train, Y_test = train_test_split(X, Y, test_size = 0.1)\n",
    "\n",
    "del X\n",
    "del Y"
   ]
  },
  {
   "cell_type": "code",
   "execution_count": 6,
   "metadata": {
    "collapsed": true
   },
   "outputs": [],
   "source": [
    "# build a model\n",
    "\n",
    "input_seq_len = input_length\n",
    "output_seq_len = input_length+2\n",
    "en_vocab_size = len(en_vocab_to_int)# + 2 # + <pad>, <ukn>\n",
    "cn_vocab_size = len(cn_vocab_to_int)# + 4 # + <pad>, <ukn>, <eos>, <go>\n",
    "\n",
    "# placeholders\n",
    "encoder_inputs = [tf.placeholder(dtype = tf.int32, shape = [None], name = 'encoder{}'.format(i)) for i in range(input_seq_len)]\n",
    "decoder_inputs = [tf.placeholder(dtype = tf.int32, shape = [None], name = 'decoder{}'.format(i)) for i in range(output_seq_len)]\n",
    "\n",
    "targets = [decoder_inputs[i+1] for i in range(output_seq_len-1)]\n",
    "targets.append(tf.placeholder(dtype = tf.int32, shape = [None], name = 'last_target')) ## add last, to make it the same as decode input\n",
    "target_weights = [tf.placeholder(dtype = tf.float32, shape = [None], name = 'target_w{}'.format(i)) for i in range(output_seq_len)]"
   ]
  },
  {
   "cell_type": "code",
   "execution_count": 7,
   "metadata": {
    "collapsed": true
   },
   "outputs": [],
   "source": [
    "# output projection\n",
    "size = 512\n",
    "w_t = tf.get_variable('proj_w', [cn_vocab_size, size], tf.float32)\n",
    "b = tf.get_variable('proj_b', [cn_vocab_size], tf.float32)\n",
    "w = tf.transpose(w_t)\n",
    "output_projection = (w, b)\n",
    "\n",
    "outputs, states = tf.contrib.legacy_seq2seq.embedding_attention_seq2seq(\n",
    "                                            encoder_inputs,\n",
    "                                            decoder_inputs,\n",
    "                                            tf.contrib.rnn.BasicLSTMCell(size),\n",
    "                                            num_encoder_symbols = en_vocab_size,\n",
    "                                            num_decoder_symbols = cn_vocab_size,\n",
    "                                            embedding_size = 100,\n",
    "                                            feed_previous = False,\n",
    "                                            output_projection = output_projection,\n",
    "                                            dtype = tf.float32)"
   ]
  },
  {
   "cell_type": "code",
   "execution_count": 8,
   "metadata": {
    "collapsed": true
   },
   "outputs": [],
   "source": [
    "# define our loss function\n",
    "\n",
    "# sampled softmax loss - returns: A batch_size 1-D tensor of per-example sampled softmax losses\n",
    "def sampled_loss(labels, logits):\n",
    "    return tf.nn.sampled_softmax_loss(\n",
    "                        weights = w_t,\n",
    "                        biases = b,\n",
    "                        labels = tf.reshape(labels, [-1, 1]),\n",
    "                        inputs = logits,\n",
    "                        num_sampled = 512,\n",
    "                        num_classes = cn_vocab_size)\n",
    "\n",
    "# Weighted cross-entropy loss for a sequence of logits\n",
    "loss = tf.contrib.legacy_seq2seq.sequence_loss(outputs, targets, target_weights, softmax_loss_function = sampled_loss)"
   ]
  },
  {
   "cell_type": "code",
   "execution_count": 9,
   "metadata": {
    "collapsed": true
   },
   "outputs": [],
   "source": [
    "# let's define some helper functions\n",
    "\n",
    "# simple softmax function\n",
    "def softmax(x):\n",
    "    n = np.max(x)\n",
    "    e_x = np.exp(x - n)\n",
    "    return e_x / e_x.sum()\n",
    "\n",
    "# feed data into placeholders\n",
    "def feed_dict(x, y, batch_size = 64):\n",
    "    feed = {}\n",
    "    idxes = np.random.choice(len(x), size = batch_size, replace = False)\n",
    "    for i in range(input_seq_len):\n",
    "        feed[encoder_inputs[i].name] = np.array([x[j][i] for j in idxes], dtype = np.int32)\n",
    "        \n",
    "    for i in range(output_seq_len):\n",
    "        feed[decoder_inputs[i].name] = np.array([y[j][i] for j in idxes], dtype = np.int32)\n",
    "        \n",
    "    feed[targets[len(targets)-1].name] = np.full(shape = [batch_size], fill_value = cn_vocab_to_int['<pad>'], dtype = np.int32)\n",
    "    \n",
    "    for i in range(output_seq_len-1):\n",
    "        batch_weights = np.ones(batch_size, dtype = np.float32)\n",
    "        target = feed[decoder_inputs[i+1].name]\n",
    "        for j in range(batch_size):\n",
    "            if target[j] == cn_vocab_to_int['<pad>']:\n",
    "                batch_weights[j] = 0.0\n",
    "        feed[target_weights[i].name] = batch_weights\n",
    "        \n",
    "    feed[target_weights[output_seq_len-1].name] = np.zeros(batch_size, dtype = np.float32)\n",
    "    \n",
    "    return feed\n",
    "\n",
    "# decode output sequence\n",
    "def decode_output(output_seq):\n",
    "    words = [cn_int_to_vocab[idx] for idx in output_seq]\n",
    "    return words\n",
    "             \n",
    "# def decode_output(output_seq):\n",
    "#     words = []\n",
    "#     for i in range(output_seq_len):\n",
    "#         smax = softmax(output_seq[i])\n",
    "#         idx = np.argmax(smax)\n",
    "#         words.append(cn_vocab_to_int[idx])\n",
    "#     return words"
   ]
  },
  {
   "cell_type": "code",
   "execution_count": 10,
   "metadata": {
    "collapsed": true
   },
   "outputs": [],
   "source": [
    "# ops and hyperparameters\n",
    "learning_rate = 5e-3\n",
    "batch_size = 64\n",
    "steps = 10000\n",
    "\n",
    "# ops for projecting outputs\n",
    "outputs_proj = [tf.matmul(outputs[i], output_projection[0]) + output_projection[1] for i in range(output_seq_len)]\n",
    "\n",
    "# training op\n",
    "optimizer = tf.train.RMSPropOptimizer(learning_rate).minimize(loss)\n",
    "\n",
    "# init op\n",
    "init = tf.global_variables_initializer()\n",
    "\n",
    "# forward step\n",
    "def forward_step(sess, feed):\n",
    "    output_sequences = sess.run(outputs_proj, feed_dict = feed)\n",
    "    return output_sequences\n",
    "\n",
    "# training step\n",
    "def backward_step(sess, feed):\n",
    "    sess.run(optimizer, feed_dict = feed)"
   ]
  },
  {
   "cell_type": "code",
   "execution_count": 11,
   "metadata": {},
   "outputs": [
    {
     "name": "stdout",
     "output_type": "stream",
     "text": [
      "------------------TRAINING------------------\n",
      "step: 0, loss: 8.049732208251953\n",
      "Checkpoint is saved\n",
      "step: 200, loss: 5.007501602172852\n",
      "step: 400, loss: 3.7146365642547607\n",
      "step: 600, loss: 3.265096664428711\n",
      "step: 800, loss: 2.882694721221924\n",
      "step: 1000, loss: 2.8592934608459473\n",
      "Checkpoint is saved\n",
      "step: 1200, loss: 2.3907723426818848\n",
      "step: 1400, loss: 2.3186521530151367\n",
      "step: 1600, loss: 2.5496885776519775\n",
      "step: 1800, loss: 2.2948598861694336\n",
      "step: 2000, loss: 2.4860246181488037\n",
      "Checkpoint is saved\n",
      "step: 2200, loss: 2.0967469215393066\n",
      "step: 2400, loss: 2.227423667907715\n",
      "step: 2600, loss: 2.133627414703369\n",
      "step: 2800, loss: 2.00405216217041\n",
      "step: 3000, loss: 2.1269402503967285\n",
      "Checkpoint is saved\n",
      "step: 3200, loss: 1.748936653137207\n",
      "step: 3400, loss: 1.9100935459136963\n",
      "step: 3600, loss: 1.874370813369751\n",
      "step: 3800, loss: 1.7887767553329468\n",
      "step: 4000, loss: 1.7585563659667969\n",
      "Checkpoint is saved\n",
      "step: 4200, loss: 1.7264553308486938\n",
      "step: 4400, loss: 1.8747832775115967\n",
      "step: 4600, loss: 1.7500547170639038\n",
      "step: 4800, loss: 1.7206642627716064\n",
      "step: 5000, loss: 1.7342545986175537\n",
      "Checkpoint is saved\n",
      "step: 5200, loss: 1.8760762214660645\n",
      "step: 5400, loss: 1.8077682256698608\n",
      "step: 5600, loss: 1.7085745334625244\n",
      "step: 5800, loss: 1.805045247077942\n",
      "step: 6000, loss: 1.6061460971832275\n",
      "Checkpoint is saved\n",
      "step: 6200, loss: 1.7462029457092285\n",
      "step: 6400, loss: 1.6030488014221191\n",
      "step: 6600, loss: 1.5591936111450195\n",
      "step: 6800, loss: 1.710435390472412\n",
      "step: 7000, loss: 1.681572675704956\n",
      "Checkpoint is saved\n",
      "step: 7200, loss: 1.4030811786651611\n",
      "step: 7400, loss: 1.731742262840271\n",
      "step: 7600, loss: 1.3607401847839355\n",
      "step: 7800, loss: 1.7509902715682983\n",
      "step: 8000, loss: 1.6047265529632568\n",
      "Checkpoint is saved\n",
      "step: 8200, loss: 1.520925760269165\n",
      "step: 8400, loss: 1.5247352123260498\n",
      "step: 8600, loss: 1.5928452014923096\n",
      "step: 8800, loss: 1.5684576034545898\n",
      "step: 9000, loss: 1.5547510385513306\n",
      "Checkpoint is saved\n",
      "step: 9200, loss: 1.6197686195373535\n",
      "step: 9400, loss: 1.58564293384552\n",
      "step: 9600, loss: 1.3976271152496338\n",
      "step: 9800, loss: 1.5904048681259155\n",
      "Training time for 10000 steps: 3435.2027382850647s\n"
     ]
    }
   ],
   "source": [
    "# let's train the model\n",
    "\n",
    "# we will use this list to plot losses through steps\n",
    "losses = []\n",
    "\n",
    "# save a checkpoint so we can restore the model later \n",
    "saver = tf.train.Saver()\n",
    "\n",
    "print ('------------------TRAINING------------------')\n",
    "\n",
    "with tf.Session() as sess:\n",
    "    sess.run(init)\n",
    "    \n",
    "    t = time.time()\n",
    "    for step in range(steps):\n",
    "        feed = feed_dict(X_train, Y_train)\n",
    "            \n",
    "        backward_step(sess, feed)\n",
    "        \n",
    "        if step % 200 == 0 or step == 0:\n",
    "            loss_value = sess.run(loss, feed_dict = feed)\n",
    "            print('step: {}, loss: {}'.format(step, loss_value))\n",
    "            losses.append(loss_value)\n",
    "        \n",
    "        if step % 1000 == 0:\n",
    "            saver.save(sess, 'checkpoints/', global_step=step)\n",
    "            print ('Checkpoint is saved')\n",
    "            \n",
    "    print ('Training time for {} steps: {}s'.format(steps, time.time() - t))"
   ]
  },
  {
   "cell_type": "code",
   "execution_count": 12,
   "metadata": {},
   "outputs": [
    {
     "data": {
      "image/png": "[encoded data removed]",
      "text/plain": [
       "<matplotlib.figure.Figure at 0x7f4a46525da0>"
      ]
     },
     "metadata": {},
     "output_type": "display_data"
    }
   ],
   "source": [
    "# plot losses\n",
    "\n",
    "with plt.style.context('fivethirtyeight'):\n",
    "    plt.plot(losses, linewidth = 1)\n",
    "    plt.xlabel('Steps')\n",
    "    plt.ylabel('Losses')\n",
    "    plt.ylim((0, 12))\n",
    "\n",
    "plt.show()"
   ]
  },
  {
   "cell_type": "code",
   "execution_count": 15,
   "metadata": {},
   "outputs": [
    {
     "name": "stdout",
     "output_type": "stream",
     "text": [
      "1.\n",
      "--------------------------------\n",
      "What' s your name\n",
      "你叫我的名叫\n",
      "\n",
      "--------------------------------\n",
      "2.\n",
      "--------------------------------\n",
      "what is going on? I have no idea.\n",
      "我不是什么意思\n",
      "\n",
      "--------------------------------\n",
      "3.\n",
      "--------------------------------\n",
      "My name is\n",
      "我的名叫\n",
      "\n",
      "--------------------------------\n",
      "4.\n",
      "--------------------------------\n",
      "What are you doing\n",
      "你在干什么\n",
      "\n",
      "--------------------------------\n",
      "5.\n",
      "--------------------------------\n",
      "I am reading a book\n",
      "我很读急\n",
      "\n",
      "--------------------------------\n",
      "6.\n",
      "--------------------------------\n",
      "How are you?\n",
      "你们怎么样\n",
      "\n",
      "--------------------------------\n",
      "7.\n",
      "--------------------------------\n",
      "I am good\n",
      "我很好\n",
      "\n",
      "--------------------------------\n",
      "8.\n",
      "--------------------------------\n",
      "Do you speak English\n",
      "你说英雄\n",
      "\n",
      "--------------------------------\n",
      "9.\n",
      "--------------------------------\n",
      "What time is it\n",
      "我们的时间\n",
      "\n",
      "--------------------------------\n",
      "10.\n",
      "--------------------------------\n",
      "Hi\n",
      "你们\n",
      "\n",
      "--------------------------------\n",
      "11.\n",
      "--------------------------------\n",
      "Goodbye\n",
      "你们的情况\n",
      "\n",
      "--------------------------------\n",
      "12.\n",
      "--------------------------------\n",
      "Yes\n",
      "是的\n",
      "\n",
      "--------------------------------\n",
      "13.\n",
      "--------------------------------\n",
      "No\n",
      "不是你\n",
      "\n",
      "--------------------------------\n"
     ]
    }
   ],
   "source": [
    "# let's test the model\n",
    "\n",
    "with tf.Graph().as_default():\n",
    "    \n",
    "    # placeholders\n",
    "    encoder_inputs = [tf.placeholder(dtype = tf.int32, shape = [None], name = 'encoder{}'.format(i)) for i in range(input_seq_len)]\n",
    "    decoder_inputs = [tf.placeholder(dtype = tf.int32, shape = [None], name = 'decoder{}'.format(i)) for i in range(output_seq_len)]\n",
    "\n",
    "    # output projection\n",
    "    size = 512\n",
    "    w_t = tf.get_variable('proj_w', [cn_vocab_size, size], tf.float32)\n",
    "    b = tf.get_variable('proj_b', [cn_vocab_size], tf.float32)\n",
    "    w = tf.transpose(w_t)\n",
    "    output_projection = (w, b)\n",
    "    \n",
    "    # change the model so that output at time t can be fed as input at time t+1\n",
    "    outputs, states = tf.contrib.legacy_seq2seq.embedding_attention_seq2seq(\n",
    "                                                encoder_inputs,\n",
    "                                                decoder_inputs,\n",
    "                                                tf.contrib.rnn.BasicLSTMCell(size),\n",
    "                                                num_encoder_symbols = en_vocab_size,\n",
    "                                                num_decoder_symbols = cn_vocab_size,\n",
    "                                                embedding_size = 100,\n",
    "                                                feed_previous = True, # <-----this is changed----->\n",
    "                                                output_projection = output_projection,\n",
    "                                                dtype = tf.float32)\n",
    "    \n",
    "    # ops for projecting outputs\n",
    "    outputs_proj = [tf.matmul(outputs[i], output_projection[0]) + output_projection[1] for i in range(output_seq_len)]\n",
    "\n",
    "    # let's translate these sentences     \n",
    "    en_sentences = [\"What' s your name\", 'what is going on? I have no idea.','My name is', 'What are you doing', 'I am reading a book',\\\n",
    "                    'How are you?', 'I am good', 'Do you speak English', 'What time is it', 'Hi', 'Goodbye', 'Yes', 'No']\n",
    "    en_sentences_encoded = [[en_vocab_to_int.get(word, 0) for word in en_sentence.split()] for en_sentence in en_sentences]\n",
    "\n",
    "    # padding to fit encoder input\n",
    "    for i in range(len(en_sentences_encoded)):\n",
    "        en_sentences_encoded[i] += (input_seq_len - len(en_sentences_encoded[i])) * [en_vocab_to_int['<pad>']]\n",
    "    \n",
    "    # restore all variables - use the last checkpoint saved\n",
    "    saver = tf.train.Saver()\n",
    "    path = tf.train.latest_checkpoint('checkpoints')\n",
    "    \n",
    "    with tf.Session() as sess:\n",
    "        # restore\n",
    "        saver.restore(sess, path)\n",
    "        \n",
    "        # feed data into placeholders\n",
    "        feed = {}\n",
    "        for i in range(input_seq_len):\n",
    "            feed[encoder_inputs[i].name] = np.array([en_sentences_encoded[j][i] for j in range(len(en_sentences_encoded))], dtype = np.int32)\n",
    "            \n",
    "        feed[decoder_inputs[0].name] = np.array([cn_vocab_to_int['<go>']] * len(en_sentences_encoded), dtype = np.int32)\n",
    "        \n",
    "        # translate\n",
    "        output_sequences = sess.run(outputs_proj, feed_dict = feed)\n",
    "        output_predicts = np.argmax(np.array(output_sequences).transpose(1,0,2),2)\n",
    "        \n",
    "        # decode seq.\n",
    "        for i in range(len(output_predicts)):\n",
    "            print ('{}.\\n--------------------------------'.format(i+1))\n",
    "            ouput_seq = output_predicts[i,:]\n",
    "            #decode output sequence\n",
    "            words = decode_output(ouput_seq)\n",
    "        \n",
    "            print (en_sentences[i])\n",
    "            chinese_words =''\n",
    "            for i in range(len(words)):\n",
    "                if words[i] not in ['<eos>', '<pad>', '<go>']:\n",
    "                    chinese_words+=words[i]\n",
    "            print(chinese_words)\n",
    "            print ('\\n--------------------------------')"
   ]
  },
  {
   "cell_type": "markdown",
   "metadata": {},
   "source": [
    "# This model can be improved by using more training steps, better dataset or even with better selection of hyperparameters "
   ]
  },
  {
   "cell_type": "code",
   "execution_count": null,
   "metadata": {
    "collapsed": true
   },
   "outputs": [],
   "source": []
  }
 ],
 "metadata": {
  "kernelspec": {
   "display_name": "Python 3",
   "language": "python",
   "name": "python3"
  },
  "language_info": {
   "codemirror_mode": {
    "name": "ipython",
    "version": 3
   },
   "file_extension": ".py",
   "mimetype": "text/x-python",
   "name": "python",
   "nbconvert_exporter": "python",
   "pygments_lexer": "ipython3",
   "version": "3.5.3"
  }
 },
 "nbformat": 4,
 "nbformat_minor": 2
}
