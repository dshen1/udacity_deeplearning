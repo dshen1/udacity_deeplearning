{
 "cells": [
  {
   "cell_type": "code",
   "execution_count": 1,
   "metadata": {
    "collapsed": true
   },
   "outputs": [],
   "source": [
    "import os"
   ]
  },
  {
   "cell_type": "markdown",
   "metadata": {},
   "source": [
    "## Prepare data "
   ]
  },
  {
   "cell_type": "markdown",
   "metadata": {},
   "source": [
    "##### Load data into list "
   ]
  },
  {
   "cell_type": "code",
   "execution_count": 67,
   "metadata": {},
   "outputs": [],
   "source": [
    "pwd = os.getcwd()\n",
    "data_path = os.path.join(pwd,'data_final','srt')\n",
    "data_cn_path = os.path.join(data_path,'cn')\n",
    "data_en_path = os.path.join(data_path,'en')"
   ]
  },
  {
   "cell_type": "code",
   "execution_count": 68,
   "metadata": {},
   "outputs": [],
   "source": [
    "en_files_names = os.listdir(data_en_path)\n",
    "cn_files_names = os.listdir(data_en_path)\n",
    "en_files_dict = {int(f.split('_')[0]):f for f in en_files_names}\n",
    "cn_files_dict = {int(f.split('_')[0]):f for f in cn_files_names}"
   ]
  },
  {
   "cell_type": "code",
   "execution_count": 82,
   "metadata": {},
   "outputs": [],
   "source": [
    "## define a function to read certain number of fines and make them into a list\n",
    "def read_files(file_path,file_dict,num_files):\n",
    "    sentence_list = []\n",
    "    for i in range(num_files):\n",
    "        path = os.path.join(file_path,file_dict[i])\n",
    "        with open(path, 'r') as f:\n",
    "            lines = f.readlines().strip()\n",
    "            #print(len(lines))\n",
    "            sentence_list.extend(lines)\n",
    "            \n",
    "    return sentence_list"
   ]
  },
  {
   "cell_type": "code",
   "execution_count": 95,
   "metadata": {},
   "outputs": [],
   "source": [
    "train_X = read_files(data_en_path,en_files_dict,1000)\n",
    "train_Y = read_files(data_cn_path,cn_files_dict,1000)"
   ]
  },
  {
   "cell_type": "code",
   "execution_count": 96,
   "metadata": {},
   "outputs": [
    {
     "name": "stdout",
     "output_type": "stream",
     "text": [
      "(417205, 417205)\n"
     ]
    }
   ],
   "source": [
    "## check if lines are alined \n",
    "print((len(train_X),len(train_Y)))"
   ]
  },
  {
   "cell_type": "code",
   "execution_count": 103,
   "metadata": {
    "scrolled": true
   },
   "outputs": [
    {
     "name": "stdout",
     "output_type": "stream",
     "text": [
      "That's it! Into him, Hook!\n",
      "\n",
      "就是这样  靠近点  胡克\n",
      "\n"
     ]
    }
   ],
   "source": [
    "x = 1\n",
    "print(train_X[x])\n",
    "print(train_Y[x])"
   ]
  },
  {
   "cell_type": "markdown",
   "metadata": {},
   "source": [
    "#### Clean up data "
   ]
  },
  {
   "cell_type": "code",
   "execution_count": 121,
   "metadata": {},
   "outputs": [],
   "source": [
    "import re\n",
    "from collections import Counter"
   ]
  },
  {
   "cell_type": "code",
   "execution_count": 166,
   "metadata": {},
   "outputs": [],
   "source": [
    "_WORD_SPLIT = re.compile(r\"([.,!?\\\"':;])\")\n",
    "\n",
    "def tokenize_setence(se):\n",
    "    words = []\n",
    "    for s in se.split():\n",
    "        words.extend(_WORD_SPLIT.split(s))\n",
    "    return words\n",
    "\n"
   ]
  },
  {
   "cell_type": "code",
   "execution_count": 176,
   "metadata": {},
   "outputs": [
    {
     "data": {
      "text/plain": [
       "Counter({'': 15,\n",
       "         '!': 3,\n",
       "         \"'\": 3,\n",
       "         ',': 5,\n",
       "         '.': 7,\n",
       "         'Controlled': 1,\n",
       "         'Hook': 1,\n",
       "         'Into': 1,\n",
       "         'Keep': 2,\n",
       "         'One': 2,\n",
       "         'Take': 1,\n",
       "         'That': 3,\n",
       "         'aggression': 1,\n",
       "         'and': 1,\n",
       "         'back': 1,\n",
       "         'fucking': 1,\n",
       "         'give': 1,\n",
       "         'going': 1,\n",
       "         'him': 1,\n",
       "         'it': 5,\n",
       "         'keep': 1,\n",
       "         'moving': 1,\n",
       "         's': 3,\n",
       "         'son': 1,\n",
       "         'throwing': 1,\n",
       "         'two': 2})"
      ]
     },
     "execution_count": 176,
     "metadata": {},
     "output_type": "execute_result"
    }
   ],
   "source": [
    "train_sents = [tokenize_setence(x) for x in train_X[:5]]\n",
    "tran_voc_counter = Counter([word for sentance in train_sents for word in sentance])\n",
    "tran_voc_counter"
   ]
  },
  {
   "cell_type": "code",
   "execution_count": 179,
   "metadata": {},
   "outputs": [
    {
     "data": {
      "text/plain": [
       "1"
      ]
     },
     "execution_count": 179,
     "metadata": {},
     "output_type": "execute_result"
    }
   ],
   "source": [
    "tran_voc_counter[\"son\"]"
   ]
  },
  {
   "cell_type": "code",
   "execution_count": 173,
   "metadata": {},
   "outputs": [
    {
     "data": {
      "text/plain": [
       "\"Keep moving. That's it, son.\\n\""
      ]
     },
     "execution_count": 173,
     "metadata": {},
     "output_type": "execute_result"
    }
   ],
   "source": [
    "train_X[0]"
   ]
  },
  {
   "cell_type": "code",
   "execution_count": 174,
   "metadata": {},
   "outputs": [
    {
     "data": {
      "text/plain": [
       "[\"Keep moving. That's it, son.\\n\",\n",
       " \"That's it! Into him, Hook!\\n\",\n",
       " 'Keep fucking going! Controlled aggression.\\n',\n",
       " \"That's it, keep throwing. One, two. One, two.\\n\",\n",
       " 'Take it and give it back.\\n',\n",
       " \"That's it, keep going. Lovely.\\n\",\n",
       " \"I said, time! Fucking break 'em!\\n\",\n",
       " \"You'll do for me, boys.\\n\",\n",
       " 'Welcome to the regiment.\\n',\n",
       " 'Watch your footing, boys.\\n']"
      ]
     },
     "execution_count": 174,
     "metadata": {},
     "output_type": "execute_result"
    }
   ],
   "source": [
    "train_X[0:10]"
   ]
  },
  {
   "cell_type": "code",
   "execution_count": 144,
   "metadata": {},
   "outputs": [],
   "source": [
    "sentances = train_X[:100]\n",
    "x = Counter(word for setance in sentances for word in tokenize_setence(setance))"
   ]
  },
  {
   "cell_type": "code",
   "execution_count": 145,
   "metadata": {},
   "outputs": [
    {
     "data": {
      "text/plain": [
       "Counter({'': 10,\n",
       "         '\\n': 950,\n",
       "         ' ': 10,\n",
       "         ' -Go on': 10,\n",
       "         ' -MRF': 10,\n",
       "         ' -We need to reassure people': 10,\n",
       "         ' -Your lives are in each other': 10,\n",
       "         ' Carry on': 10,\n",
       "         ' Come on': 20,\n",
       "         ' Controlled aggression': 10,\n",
       "         ' Darren': 10,\n",
       "         ' Dismissed': 10,\n",
       "         ' Fucking break ': 10,\n",
       "         ' Get him up there': 10,\n",
       "         ' Get his knees up': 10,\n",
       "         ' Good work': 10,\n",
       "         ' Help each other': 10,\n",
       "         ' Hook': 30,\n",
       "         ' Hurry up': 10,\n",
       "         ' Hurry up and come inside': 10,\n",
       "         ' I': 10,\n",
       "         ' I want you lining up with your gun over there': 10,\n",
       "         ' I want you to cordon off both sides of the house\\n': 10,\n",
       "         ' Into him': 10,\n",
       "         ' It': 10,\n",
       "         ' Leave him': 10,\n",
       "         ' Lovely': 10,\n",
       "         ' No riot gear': 10,\n",
       "         ' None of us likes you': 10,\n",
       "         ' Now': 10,\n",
       "         ' OK': 20,\n",
       "         ' One': 20,\n",
       "         ' Sergeant': 20,\n",
       "         ' Teamwork': 10,\n",
       "         ' That': 20,\n",
       "         ' Thommo': 10,\n",
       "         ' Thompson': 20,\n",
       "         ' We have to move out in two minutes': 10,\n",
       "         ' We must be near the Falls Road': 10,\n",
       "         ' Welcome to Ireland': 10,\n",
       "         ' actually': 10,\n",
       "         ' and up the stairs': 10,\n",
       "         ' at each other': 10,\n",
       "         ' boys': 80,\n",
       "         ' drag him': 10,\n",
       "         ' eat your food before it gets cold': 10,\n",
       "         ' get your back against the wall': 10,\n",
       "         ' guys': 10,\n",
       "         ' help each other': 10,\n",
       "         ' here in orange': 10,\n",
       "         ' hurry up': 10,\n",
       "         ' hurry up and organise yourselves': 10,\n",
       "         ' keep going': 10,\n",
       "         ' keep throwing': 10,\n",
       "         ' lads': 20,\n",
       "         ' looking forward to getting to know you all over the next couple of days': 10,\n",
       "         ' man': 10,\n",
       "         ' mate': 10,\n",
       "         ' our kid': 10,\n",
       "         ' single file': 10,\n",
       "         ' sir': 20,\n",
       "         ' so you': 10,\n",
       "         ' son': 20,\n",
       "         ' stay with me': 10,\n",
       "         ' stop messing around': 10,\n",
       "         ' that': 10,\n",
       "         ' the United Kingdom': 10,\n",
       "         ' then we must be near the Falls Road': 10,\n",
       "         ' this is basic information but very necessary': 10,\n",
       "         ' this is where you eat and sleep': 10,\n",
       "         ' time': 10,\n",
       "         ' two': 20,\n",
       "         ' undercover guys': 10,\n",
       "         ' where are they': 10,\n",
       "         ' you dickheads': 10,\n",
       "         ' you fucking shitbags': 10,\n",
       "         ' you heard the man': 10,\n",
       "         ' you want to cordon off the house both sides': 10,\n",
       "         '!': 200,\n",
       "         '\"': 20,\n",
       "         \"'\": 300,\n",
       "         ',': 670,\n",
       "         '-All children must be back by five pm': 10,\n",
       "         '-Are you sure': 10,\n",
       "         '-Come on': 10,\n",
       "         '-Who are they': 10,\n",
       "         '.': 930,\n",
       "         '?': 100,\n",
       "         'All right': 30,\n",
       "         'All units to double one two': 10,\n",
       "         'And the Catholic Nationalist west in green': 10,\n",
       "         'Apparently the birds fucking love us over here': 10,\n",
       "         'Because of the deteriorating security situation in Belfast': 10,\n",
       "         'Catholics and Protestants living side by side': 10,\n",
       "         'Chucking fucking knickers at us': 10,\n",
       "         'Come down': 10,\n",
       "         'Come on': 60,\n",
       "         'Do not be afraid of the water': 10,\n",
       "         'Expecting a riot': 10,\n",
       "         'Fuck me': 10,\n",
       "         'Get a fucking brew on': 10,\n",
       "         'Get into a bit of bother': 10,\n",
       "         'Get on': 10,\n",
       "         'Get on to HQ and advise the road is barricaded': 10,\n",
       "         'Get out of Ireland now': 10,\n",
       "         'Get out of here': 10,\n",
       "         'Get out of here now': 10,\n",
       "         'Get out of this country': 10,\n",
       "         'Go on': 10,\n",
       "         'Hands off cocks and pull on socks': 10,\n",
       "         'Help him out': 20,\n",
       "         'I': 30,\n",
       "         'I don': 10,\n",
       "         'I just wanted to meet the new boys': 10,\n",
       "         'I said': 10,\n",
       "         'I take it you all know where Belfast is': 10,\n",
       "         'I think that': 10,\n",
       "         'I thought we should be prepared': 10,\n",
       "         'I want berets': 10,\n",
       "         'If that': 10,\n",
       "         'Keep fucking going': 10,\n",
       "         'Keep moving': 10,\n",
       "         'Mate of mine was out here last year': 10,\n",
       "         'Move your fucking arses': 20,\n",
       "         'Nice one': 10,\n",
       "         'Northern Ireland': 10,\n",
       "         'Nothing to do with us': 10,\n",
       "         'Now get back in formation before you get everybody killed': 10,\n",
       "         'Offload': 10,\n",
       "         'Pay attention': 10,\n",
       "         'Quickly': 10,\n",
       "         'Right': 20,\n",
       "         'Shields and helmets back here': 10,\n",
       "         'Take it and give it back': 10,\n",
       "         'Teamwork': 10,\n",
       "         'That': 40,\n",
       "         'The guns': 10,\n",
       "         'They': 10,\n",
       "         'This is the front line': 10,\n",
       "         'Today': 10,\n",
       "         'Watch your footing': 10,\n",
       "         'We': 30,\n",
       "         'We need to look them in the eye and tell them that': 10,\n",
       "         'Welcome to the regiment': 10,\n",
       "         'Well': 10,\n",
       "         'Well done': 10,\n",
       "         'Were you expecting the fucking Ritz': 10,\n",
       "         'What are you doing': 10,\n",
       "         'You': 30,\n",
       "         'You are not leaving this country': 10,\n",
       "         'You can send a medic back when you reach your objective': 10,\n",
       "         'You can use the Divis Flats at the top of the Falls Road\\n': 10,\n",
       "         'You heard what the man said': 10,\n",
       "         'You of all people should remember that': 10,\n",
       "         'You want to make sure you': 10,\n",
       "         'Youse fucking creeps': 10,\n",
       "         'and the younger more radical street-fighting element': 10,\n",
       "         'between the Protestant Loyalist east': 10,\n",
       "         'but do not enter the flats': 10,\n",
       "         'by forming a line from this side all the way down to this side': 10,\n",
       "         'divided by the Falls Road': 10,\n",
       "         'em': 10,\n",
       "         'in the Catholic community': 10,\n",
       "         'll be back soon': 10,\n",
       "         'll do for me': 10,\n",
       "         'll only be staying here till one of the Paddies shoots you anyway': 10,\n",
       "         'll show you where you shit in a minute': 10,\n",
       "         'm a bit of a new boy myself': 10,\n",
       "         'm not even leaving the country': 10,\n",
       "         're here to protect them': 10,\n",
       "         're not at the depot now': 10,\n",
       "         're ready': 10,\n",
       "         're seeing a split between the older official IRA elements\\n': 10,\n",
       "         's all': 10,\n",
       "         's hands': 10,\n",
       "         's it': 60,\n",
       "         's north': 10,\n",
       "         's operation is to assist the RUC in conducting a house search\\n': 10,\n",
       "         's pish': 10,\n",
       "         's right': 10,\n",
       "         's throats': 10,\n",
       "         't want you worried about me': 10,\n",
       "         've become an IRA stronghold': 10,\n",
       "         've got nothing to worry about': 10,\n",
       "         've got to be quick': 10,\n",
       "         've got to look after yourselves': 10,\n",
       "         've got to reassure the Paddy': 10,\n",
       "         'we': 10,\n",
       "         'you': 10,\n",
       "         'you can divide the city\\n': 10,\n",
       "         'your regiment is now being deployed there on an emergency basis': 10})"
      ]
     },
     "execution_count": 145,
     "metadata": {},
     "output_type": "execute_result"
    }
   ],
   "source": [
    "x"
   ]
  },
  {
   "cell_type": "code",
   "execution_count": 118,
   "metadata": {},
   "outputs": [
    {
     "data": {
      "text/plain": [
       "['1', '9', '9', '0', '2', '0', '0']"
      ]
     },
     "execution_count": 118,
     "metadata": {},
     "output_type": "execute_result"
    }
   ],
   "source": [
    "_DIGIT_RE = re.compile(r\"\\d\")\n",
    "testing = \"in year 1990, i am not interest in 200 dollars\"\n",
    "_DIGIT_RE.findall(testing)"
   ]
  },
  {
   "cell_type": "code",
   "execution_count": null,
   "metadata": {
    "collapsed": true
   },
   "outputs": [],
   "source": []
  }
 ],
 "metadata": {
  "kernelspec": {
   "display_name": "Python 3",
   "language": "python",
   "name": "python3"
  },
  "language_info": {
   "codemirror_mode": {
    "name": "ipython",
    "version": 3
   },
   "file_extension": ".py",
   "mimetype": "text/x-python",
   "name": "python",
   "nbconvert_exporter": "python",
   "pygments_lexer": "ipython3",
   "version": "3.5.3"
  }
 },
 "nbformat": 4,
 "nbformat_minor": 2
}
