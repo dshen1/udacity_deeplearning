{
 "cells": [
  {
   "cell_type": "markdown",
   "metadata": {},
   "source": [
    "#### Dimensionality\n",
    "From what we've learned so far, how can we calculate the number of neurons of each layer in our CNN?\n",
    "\n",
    "Given:\n",
    "\n",
    "- our input layer has a width of W and a height of H\n",
    "- our convolutional layer has a filter size F\n",
    "- we have a stride of S\n",
    "- a padding of P\n",
    "- and the number of filters K,\n",
    "\n",
    "the following formula gives us the width of the next layer: $W_out = (W−F+2P)/S+1$.\n",
    "\n",
    "The output height would be: $H_out = (H-F+2P)/S + 1$.\n",
    "\n",
    "And the output depth would be equal to the number of filters $D_out = K$.\n",
    "\n",
    "The output volume would be $W_out * H_out * D_out$."
   ]
  },
  {
   "cell_type": "code",
   "execution_count": 66,
   "metadata": {
    "collapsed": false
   },
   "outputs": [],
   "source": [
    "import numpy as np\n",
    "from tensorflow.examples.tutorials.mnist import input_data\n",
    "import tensorflow as tf"
   ]
  },
  {
   "cell_type": "code",
   "execution_count": 67,
   "metadata": {
    "collapsed": false,
    "scrolled": true
   },
   "outputs": [
    {
     "name": "stdout",
     "output_type": "stream",
     "text": [
      "Extracting ./train-images-idx3-ubyte.gz\n",
      "Extracting ./train-labels-idx1-ubyte.gz\n",
      "Extracting ./t10k-images-idx3-ubyte.gz\n",
      "Extracting ./t10k-labels-idx1-ubyte.gz\n",
      "(28, 28, 1)\n",
      "(10,)\n"
     ]
    }
   ],
   "source": [
    "mnist = input_data.read_data_sets(\".\", one_hot=True, reshape=False)\n",
    "print(mnist.train.images[0].shape)\n",
    "print(mnist.train.labels[0].shape)"
   ]
  },
  {
   "cell_type": "code",
   "execution_count": 68,
   "metadata": {
    "collapsed": true
   },
   "outputs": [],
   "source": [
    "## clear graph\n",
    "tf.reset_default_graph()"
   ]
  },
  {
   "cell_type": "code",
   "execution_count": 69,
   "metadata": {
    "collapsed": false
   },
   "outputs": [],
   "source": [
    "# Parameters\n",
    "learning_rate = 0.00001\n",
    "epochs = 10\n",
    "batch_size = 128\n",
    "# Number of samples to calculate validation and accuracy\n",
    "# Decrease this if you're running out of memory to calculate accuracy\n",
    "test_valid_size = 256\n",
    "n_classes = 10  # MNIST total classes (0-9 digits)\n",
    "keep_rate = 0.75  # Dropout, probability to keep units"
   ]
  },
  {
   "cell_type": "code",
   "execution_count": 70,
   "metadata": {
    "collapsed": true
   },
   "outputs": [],
   "source": [
    "## set up weights \n",
    "weights = {\n",
    "    'wc1': tf.Variable(tf.random_normal([5,5,1,32])),      ## first converlution layer, 5x5x1 window, 32 layers\n",
    "    'wc2': tf.Variable(tf.random_normal([5,5,32,64])),     ## from 32 to 64 layers \n",
    "    'wd1': tf.Variable(tf.random_normal([7*7*64,1024])),   ## a fully connected layer, turn everything into 1024 dimentions\n",
    "    'out': tf.Variable(tf.random_normal([1024,n_classes])) ## output layer\n",
    "}\n",
    "\n",
    "biases = {\n",
    "    'bc1': tf.Variable(tf.random_normal([32])),\n",
    "    'bc2': tf.Variable(tf.random_normal([64])),\n",
    "    'bd1': tf.Variable(tf.random_normal([1024])),\n",
    "    'out': tf.Variable(tf.random_normal([n_classes]))\n",
    "}"
   ]
  },
  {
   "cell_type": "code",
   "execution_count": 71,
   "metadata": {
    "collapsed": true
   },
   "outputs": [],
   "source": [
    "## set up conv function \n",
    "def conv2d(x,W,b,s=1):\n",
    "    x = tf.nn.conv2d(x,W,strides=[1,s,s,1],padding='SAME')\n",
    "    x = tf.nn.bias_add(x,b)     ## tf.add() doesn't work when the tensors aren't the same shape.\n",
    "    return tf.nn.relu(x)        ## use relu as activation function \n",
    "\n",
    "## set up Max  Pooling layer\n",
    "def maxpool2d(x,k=2):\n",
    "    return tf.nn.max_pool(\n",
    "        x,\n",
    "        ksize = [1,k,k,1],      ## k is the size of the filter \n",
    "        strides=[1,k,k,1],\n",
    "        padding='SAME'\n",
    "    )"
   ]
  },
  {
   "cell_type": "code",
   "execution_count": 72,
   "metadata": {
    "collapsed": true
   },
   "outputs": [],
   "source": [
    "## build the conv network \n",
    "def conv_net(x,weights,biases,keep_rate):\n",
    "    # Layer 1 - 28*28*1 to 14*14*32\n",
    "    conv1 = conv2d(x,weights['wc1'],biases['bc1'])   ## stride defaults to be 1, we are not reducing pic size here\n",
    "    conv1 = maxpool2d(conv1,k=2)                     ## reduce the picture by 2 \n",
    "    \n",
    "    # Layer 2 - 14*14*32 to 7*7*64\n",
    "    conv2 = conv2d(conv1, weights['wc2'],biases['bc2'])\n",
    "    conv2 = maxpool2d(conv2,k=2)\n",
    "    \n",
    "    # Fully connected layer - 7*7*64 to 1024\n",
    "    fc1 = tf.reshape(conv2, [-1, weights['wd1'].get_shape().as_list()[0]])  ## first reshape image into stacked row vectors\n",
    "    fc1 = tf.add(tf.matmul(fc1,weights['wd1']),biases['bd1'])\n",
    "    fc1 = tf.nn.relu(fc1)\n",
    "    tf1= tf.nn.dropout(fc1,keep_rate)\n",
    "    \n",
    "    # Output Layer - class prediction - 1024 to 10 \n",
    "    out = tf.add(tf.matmul(fc1,weights['out']),biases['out'])\n",
    "    return out \n"
   ]
  },
  {
   "cell_type": "code",
   "execution_count": null,
   "metadata": {
    "collapsed": false
   },
   "outputs": [],
   "source": [
    "##########\n",
    "# Set up inputes, cost, and optimizer \n",
    "##########\n",
    "\n",
    "# graph input\n",
    "x = tf.placeholder(tf.float32,[None,28,28,1])\n",
    "y = tf.placeholder(tf.float32,[None,n_classes])\n",
    "keep_prob = tf.placeholder(tf.float32)\n",
    "\n",
    "# Model\n",
    "logits = conv_net(x, weights, biases, keep_prob)\n",
    "\n",
    "# define loss and optimizer\n",
    "cost = tf.reduce_mean(tf.nn.softmax_cross_entropy_with_logits(logits=logits, labels=y))\n",
    "optimizer = tf.train.GradientDescentOptimizer(learning_rate=learning_rate).minimize(cost)\n",
    "\n",
    "# Accuracy\n",
    "correct_pred = tf.equal(tf.argmax(logits, 1), tf.argmax(y, 1))\n",
    "accuracy = tf.reduce_mean(tf.cast(correct_pred, tf.float32))\n",
    "\n",
    "# Initializing the variables \n",
    "init = tf.global_variables_initializer()\n"
   ]
  },
  {
   "cell_type": "code",
   "execution_count": null,
   "metadata": {
    "collapsed": false
   },
   "outputs": [
    {
     "name": "stdout",
     "output_type": "stream",
     "text": [
      "Epoch  1, Batch   1 -Loss: 65012.9648 Validation Accuracy: 0.117188\n",
      "Epoch  1, Batch   2 -Loss: 55055.8594 Validation Accuracy: 0.101562\n",
      "Epoch  1, Batch   3 -Loss: 39513.8984 Validation Accuracy: 0.058594\n",
      "Epoch  1, Batch   4 -Loss: 33135.2969 Validation Accuracy: 0.117188\n",
      "Epoch  1, Batch   5 -Loss: 29975.9004 Validation Accuracy: 0.093750\n",
      "Epoch  1, Batch   6 -Loss: 30617.9609 Validation Accuracy: 0.117188\n",
      "Epoch  1, Batch   7 -Loss: 29096.4453 Validation Accuracy: 0.128906\n",
      "Epoch  1, Batch   8 -Loss: 25309.4180 Validation Accuracy: 0.128906\n",
      "Epoch  1, Batch   9 -Loss: 22404.5859 Validation Accuracy: 0.121094\n",
      "Epoch  1, Batch  10 -Loss: 20597.3223 Validation Accuracy: 0.121094\n",
      "Epoch  1, Batch  11 -Loss: 22713.8223 Validation Accuracy: 0.140625\n",
      "Epoch  1, Batch  12 -Loss: 18416.7812 Validation Accuracy: 0.144531\n",
      "Epoch  1, Batch  13 -Loss: 19094.1992 Validation Accuracy: 0.148438\n",
      "Epoch  1, Batch  14 -Loss: 18684.6445 Validation Accuracy: 0.160156\n",
      "Epoch  1, Batch  15 -Loss: 19244.3633 Validation Accuracy: 0.164062\n",
      "Epoch  1, Batch  16 -Loss: 16494.4766 Validation Accuracy: 0.160156\n",
      "Epoch  1, Batch  17 -Loss: 16204.2246 Validation Accuracy: 0.156250\n",
      "Epoch  1, Batch  18 -Loss: 18919.5176 Validation Accuracy: 0.156250\n",
      "Epoch  1, Batch  19 -Loss: 17661.4531 Validation Accuracy: 0.175781\n",
      "Epoch  1, Batch  20 -Loss: 16961.4805 Validation Accuracy: 0.171875\n",
      "Epoch  1, Batch  21 -Loss: 15757.2139 Validation Accuracy: 0.187500\n",
      "Epoch  1, Batch  22 -Loss: 15111.3408 Validation Accuracy: 0.187500\n",
      "Epoch  1, Batch  23 -Loss: 17511.2539 Validation Accuracy: 0.179688\n",
      "Epoch  1, Batch  24 -Loss: 13861.9639 Validation Accuracy: 0.203125\n",
      "Epoch  1, Batch  25 -Loss: 14232.8125 Validation Accuracy: 0.214844\n",
      "Epoch  1, Batch  26 -Loss: 14099.6133 Validation Accuracy: 0.210938\n",
      "Epoch  1, Batch  27 -Loss: 13360.9883 Validation Accuracy: 0.214844\n",
      "Epoch  1, Batch  28 -Loss: 11787.7588 Validation Accuracy: 0.191406\n",
      "Epoch  1, Batch  29 -Loss: 11038.5449 Validation Accuracy: 0.191406\n",
      "Epoch  1, Batch  30 -Loss: 11716.5195 Validation Accuracy: 0.207031\n",
      "Epoch  1, Batch  31 -Loss: 12685.3672 Validation Accuracy: 0.226562\n",
      "Epoch  1, Batch  32 -Loss:  9800.8203 Validation Accuracy: 0.238281\n",
      "Epoch  1, Batch  33 -Loss: 10671.3672 Validation Accuracy: 0.238281\n",
      "Epoch  1, Batch  34 -Loss: 10658.2178 Validation Accuracy: 0.246094\n",
      "Epoch  1, Batch  35 -Loss: 11212.4326 Validation Accuracy: 0.277344\n",
      "Epoch  1, Batch  36 -Loss: 11659.5459 Validation Accuracy: 0.277344\n",
      "Epoch  1, Batch  37 -Loss:  9150.2500 Validation Accuracy: 0.261719\n",
      "Epoch  1, Batch  38 -Loss:  9411.9307 Validation Accuracy: 0.265625\n",
      "Epoch  1, Batch  39 -Loss: 11009.6074 Validation Accuracy: 0.289062\n",
      "Epoch  1, Batch  40 -Loss: 10500.0898 Validation Accuracy: 0.292969\n",
      "Epoch  1, Batch  41 -Loss: 10390.6963 Validation Accuracy: 0.304688\n",
      "Epoch  1, Batch  42 -Loss: 10524.9365 Validation Accuracy: 0.312500\n",
      "Epoch  1, Batch  43 -Loss:  7714.0815 Validation Accuracy: 0.320312\n",
      "Epoch  1, Batch  44 -Loss:  9778.1934 Validation Accuracy: 0.316406\n",
      "Epoch  1, Batch  45 -Loss: 10646.3193 Validation Accuracy: 0.316406\n",
      "Epoch  1, Batch  46 -Loss:  8140.0737 Validation Accuracy: 0.324219\n",
      "Epoch  1, Batch  47 -Loss:  7135.0195 Validation Accuracy: 0.320312\n",
      "Epoch  1, Batch  48 -Loss:  8908.6670 Validation Accuracy: 0.343750\n",
      "Epoch  1, Batch  49 -Loss:  7310.5986 Validation Accuracy: 0.343750\n",
      "Epoch  1, Batch  50 -Loss:  8125.3564 Validation Accuracy: 0.359375\n",
      "Epoch  1, Batch  51 -Loss:  8074.7480 Validation Accuracy: 0.332031\n",
      "Epoch  1, Batch  52 -Loss: 11039.4238 Validation Accuracy: 0.355469\n",
      "Epoch  1, Batch  53 -Loss:  8979.4863 Validation Accuracy: 0.355469\n",
      "Epoch  1, Batch  54 -Loss:  7545.9785 Validation Accuracy: 0.367188\n",
      "Epoch  1, Batch  55 -Loss:  9526.3057 Validation Accuracy: 0.375000\n",
      "Epoch  1, Batch  56 -Loss:  7992.7891 Validation Accuracy: 0.378906\n",
      "Epoch  1, Batch  57 -Loss:  8108.8730 Validation Accuracy: 0.394531\n",
      "Epoch  1, Batch  58 -Loss:  8687.3936 Validation Accuracy: 0.394531\n",
      "Epoch  1, Batch  59 -Loss:  8210.0967 Validation Accuracy: 0.390625\n",
      "Epoch  1, Batch  60 -Loss:  8876.9004 Validation Accuracy: 0.394531\n"
     ]
    }
   ],
   "source": [
    "##############\n",
    "## Run session \n",
    "##############\n",
    "\n",
    "with tf.Session() as sess:\n",
    "    sess.run(init)  ## initialize variables \n",
    "    \n",
    "    for epoch in range(epochs):\n",
    "        for batch in range(mnist.train.num_examples//batch_size):\n",
    "            batch_x, batch_y = mnist.train.next_batch(batch_size)\n",
    "            sess.run(optimizer,feed_dict={\n",
    "                x: batch_x,\n",
    "                y: batch_y,\n",
    "                keep_prob: keep_rate})\n",
    "            \n",
    "        ##########################################\n",
    "        ## print out resulsts after every 20 batches\n",
    "        #########################################\n",
    "             if batch % 20 == 0:\n",
    "                # Calculate batch loss and accuracy\n",
    "                loss = sess.run(cost, feed_dict={\n",
    "                    x: batch_x,\n",
    "                    y: batch_y,\n",
    "                    keep_prob: 1.})\n",
    "                valid_acc = sess.run(accuracy, feed_dict={\n",
    "                    x: mnist.validation.images[:test_valid_size],\n",
    "                    y: mnist.validation.labels[:test_valid_size],\n",
    "                    keep_prob: 1.})\n",
    "\n",
    "\n",
    "                print('Epoch {:>2}, Batch {:>3} -'\n",
    "                      'Loss: {:>10.4f} Validation Accuracy: {:.6f}'.format(\n",
    "                    epoch + 1,\n",
    "                    batch + 1,\n",
    "                    loss,\n",
    "                    valid_acc))\n",
    "\n",
    "    # Calculate Test Accuracy\n",
    "    test_acc = sess.run(accuracy, feed_dict={\n",
    "        x: mnist.test.images[:test_valid_size],\n",
    "        y: mnist.test.labels[:test_valid_size],\n",
    "        keep_prob: 1.})\n",
    "    print('Testing Accuracy: {}'.format(test_acc))"
   ]
  },
  {
   "cell_type": "code",
   "execution_count": null,
   "metadata": {
    "collapsed": true
   },
   "outputs": [],
   "source": []
  }
 ],
 "metadata": {
  "kernelspec": {
   "display_name": "Python 3",
   "language": "python",
   "name": "python3"
  },
  "language_info": {
   "codemirror_mode": {
    "name": "ipython",
    "version": 3
   },
   "file_extension": ".py",
   "mimetype": "text/x-python",
   "name": "python",
   "nbconvert_exporter": "python",
   "pygments_lexer": "ipython3",
   "version": "3.6.0"
  }
 },
 "nbformat": 4,
 "nbformat_minor": 2
}
