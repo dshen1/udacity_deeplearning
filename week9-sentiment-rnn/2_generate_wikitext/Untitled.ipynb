{
 "cells": [
  {
   "cell_type": "markdown",
   "metadata": {},
   "source": [
    "### Generate Wiki Text "
   ]
  },
  {
   "cell_type": "markdown",
   "metadata": {},
   "source": [
    "##### Download data from https://metamind.io/research/the-wikitext-long-term-dependency-language-modeling-dataset/"
   ]
  },
  {
   "cell_type": "code",
   "execution_count": 1,
   "metadata": {
    "collapsed": true
   },
   "outputs": [],
   "source": [
    "#mini-demo\n",
    "from urllib.request import urlretrieve\n",
    "import os \n",
    "from os.path import isfile, isdir\n",
    "import zipfile \n",
    "from tqdm import tqdm\n",
    "import numpy as np #vectorization\n",
    "import random #generate probability distribution \n",
    "import tensorflow as tf #ml\n",
    "import datetime #clock training time"
   ]
  },
  {
   "cell_type": "markdown",
   "metadata": {},
   "source": [
    "### First download data "
   ]
  },
  {
   "cell_type": "code",
   "execution_count": 2,
   "metadata": {
    "collapsed": false
   },
   "outputs": [
    {
     "name": "stdout",
     "output_type": "stream",
     "text": [
      "Data already exist\n"
     ]
    }
   ],
   "source": [
    "#### process bar\n",
    "class DLProgress(tqdm):\n",
    "    last_block = 0\n",
    "    def hook(self, block_num=1, block_size=1, total_size=None):\n",
    "        self.total = total_size\n",
    "        self.update((block_num - self.last_block) * block_size)\n",
    "        self.last_block = block_num\n",
    "\n",
    "## download file \n",
    "data_path = './wikitext'\n",
    "if isdir(data_path):\n",
    "    print('Data already exist')\n",
    "else:\n",
    "    if not isdir(data_path):\n",
    "        os.mkdir(data_path)\n",
    "    zip_file = os.path.join(data_path,'wikitext-103-v1.zip')\n",
    "    with DLProgress(unit='B', unit_scale=True, miniters=1, desc='wikidata') as pbar:\n",
    "        #urlretrieve('https://s3.amazonaws.com/research.metamind.io/wikitext/wikitext-103-v1.zip',\n",
    "        #            zip_file,\n",
    "        #            pbar.hook)\n",
    "        urlretrieve('https://s3.amazonaws.com/research.metamind.io/wikitext/wikitext-2-v1.zip',\n",
    "                    zip_file,\n",
    "                    pbar.hook)\n",
    "    with zipfile.ZipFile(os.path.join(data_path,'wikitext-103-v1.zip')) as myzip:\n",
    "        myzip.extractall(data_path)\n",
    "    ## remove zip file \n",
    "    os.remove(data_path+'/wikitext-103-v1.zip')\n",
    "\n",
    "data_file_path = \"./wikitext/wikitext-2\"\n",
    "train_file = os.path.join(data_file_path,'wiki.train.tokens')\n",
    "validate_file = os.path.join(data_file_path,'wiki.valid.tokens')"
   ]
  },
  {
   "cell_type": "markdown",
   "metadata": {},
   "source": [
    "### Read data"
   ]
  },
  {
   "cell_type": "code",
   "execution_count": 3,
   "metadata": {
    "collapsed": false,
    "scrolled": true
   },
   "outputs": [
    {
     "name": "stdout",
     "output_type": "stream",
     "text": [
      "text length in number of characters: 500000\n",
      "head of text:\n",
      " \n",
      " = Valkyria Chronicles III = \n",
      " \n",
      " Senjō no Valkyria 3 : <unk> Chronicles ( Japanese : 戦場のヴァルキュリア3 , lit . Valkyria of the Battlefield 3 ) , commonly referred to as Valkyria Chronicles III outside Japan , is a tactical role @-@ playing video game developed by Sega and Media.Vision for the PlayStation Portable . Released in January 2011 in Japan , it is the third game in the Valkyria series . <unk> the same fusion of tactical and real @-@ time gameplay as its predecessors , the story runs parallel to the first game and follows the \" Nameless \" , a penal military unit serving the nation of Gallia during the Second Europan War who perform secret black operations and are pitted against the Imperial unit \" <unk> Raven \" . \n",
      " The game began development in 2010 , carrying over a large portion of the work done on Valkyria Chronicles II . While it retained the standard features of the series , it also underwent multiple adjustments , such as making the game more <unk> for series newcomers . Char\n"
     ]
    }
   ],
   "source": [
    "#lets open the text\n",
    "#native python file read function\n",
    "text = open(train_file,encoding='utf8').read()\n",
    "text = text[:500000]\n",
    "print('text length in number of characters:', len(text))\n",
    "print('head of text:')\n",
    "print(text[:1000]) #all tokenized words, stored in a list called text"
   ]
  },
  {
   "cell_type": "markdown",
   "metadata": {},
   "source": [
    "#### Create a id to character and character to id map dictionary"
   ]
  },
  {
   "cell_type": "code",
   "execution_count": 4,
   "metadata": {
    "collapsed": false
   },
   "outputs": [
    {
     "name": "stdout",
     "output_type": "stream",
     "text": [
      "number of characters: 127\n",
      "['\\n', ' ', '!', '\"', '#', '$', '%', '&', \"'\", '(', ')', '+', ',', '-', '.', '/', '0', '1', '2', '3']\n"
     ]
    }
   ],
   "source": [
    "## get the set of characters and sort them \n",
    "chars = sorted(list(set(text)))               ## all unique characters\n",
    "char_size = len(chars)\n",
    "print('number of characters:', char_size)\n",
    "print(chars[:20])"
   ]
  },
  {
   "cell_type": "code",
   "execution_count": 5,
   "metadata": {
    "collapsed": true
   },
   "outputs": [],
   "source": [
    "## chrate char to id and id to char map \n",
    "char2id = {c:i for i,c in enumerate(chars)}\n",
    "id2char = {i:c for i,c in enumerate(chars)}"
   ]
  },
  {
   "cell_type": "code",
   "execution_count": 6,
   "metadata": {
    "collapsed": true
   },
   "outputs": [],
   "source": [
    "text_num = [char2id[s] for s in text]"
   ]
  },
  {
   "cell_type": "code",
   "execution_count": 7,
   "metadata": {
    "collapsed": true
   },
   "outputs": [],
   "source": [
    "#Given a probability of each character, return a likely character, one-hot encoded\n",
    "#our prediction will give us an array of probabilities of each character\n",
    "#we'll pick the most likely and one-hot encode it\n",
    "def sample(prediction):\n",
    "    '''\n",
    "    prediction: is a list of characters probilities\n",
    "    '''\n",
    "    r = random.uniform(0,1)  ## it is just a random number from 0-1\n",
    "    s = 0 \n",
    "    char_id = len(prediction)-1  ## this is because it starts with 0\n",
    "    #for each char prediction probability \n",
    "    for i in range(len(prediction)):\n",
    "        s+= prediction[i]\n",
    "        if s >= r:\n",
    "            char_id = i \n",
    "            break \n",
    "    \n",
    "    char_one_hot = np.zeros(shape[char_size])  ## one hot encode characters \n",
    "    char_one_hot[char_id] = 1.0\n",
    "    return char_one_hot"
   ]
  },
  {
   "cell_type": "markdown",
   "metadata": {},
   "source": [
    "#### Create X and y sets and one hot encode them  "
   ]
  },
  {
   "cell_type": "code",
   "execution_count": 8,
   "metadata": {
    "collapsed": true
   },
   "outputs": [],
   "source": [
    "from sklearn.preprocessing import LabelBinarizer\n",
    "def one_hot_encode(x,label_binarizer):\n",
    "    return label_binarizer.transform(x).tolist()"
   ]
  },
  {
   "cell_type": "code",
   "execution_count": 9,
   "metadata": {
    "collapsed": false
   },
   "outputs": [],
   "source": [
    "## \n",
    "#vectorize our data to feed it into model\n",
    "len_per_section = 50\n",
    "skip = 2\n",
    "sections = []\n",
    "next_chars = []\n",
    "#fill sections list with chunks of text, every 2 characters create a new 50 \n",
    "#character long section\n",
    "#because we are generating it at a character level\n",
    "for i in range(0, len(text_num) - len_per_section, skip):\n",
    "    sections.append(text_num[i: i + len_per_section])\n",
    "    next_chars.append(text_num[i + len_per_section])"
   ]
  },
  {
   "cell_type": "code",
   "execution_count": 10,
   "metadata": {
    "collapsed": false
   },
   "outputs": [
    {
     "name": "stdout",
     "output_type": "stream",
     "text": [
      "(249975, 50, 127) (249975, 127)\n"
     ]
    }
   ],
   "source": [
    "label_binarizer = LabelBinarizer()\n",
    "label_binarizer.fit(range(char_size))\n",
    "\n",
    "X = np.array([one_hot_encode(section,label_binarizer) for section in sections])\n",
    "y = np.array(one_hot_encode(next_chars,label_binarizer))\n",
    "print(X.shape,y.shape)\n"
   ]
  },
  {
   "cell_type": "markdown",
   "metadata": {},
   "source": [
    "#### This is not very efficient, need to figure out soemthing else "
   ]
  },
  {
   "cell_type": "markdown",
   "metadata": {},
   "source": [
    "### LSTM part"
   ]
  },
  {
   "cell_type": "code",
   "execution_count": 11,
   "metadata": {
    "collapsed": false
   },
   "outputs": [
    {
     "name": "stdout",
     "output_type": "stream",
     "text": [
      "training data size: 49975\n",
      "approximate steps per epoch: 97\n"
     ]
    }
   ],
   "source": [
    "batch_size = 512\n",
    "max_steps = 70000\n",
    "log_every = 100\n",
    "save_every = 7000      \n",
    "hidden_nodes = 1024    ## number of hidden nodes \n",
    "test_start = 'i am thinkg that'\n",
    "checkpoint_directory = 'ckpt'\n",
    "\n",
    "## create a checkpoint directory \n",
    "if tf.gfile.Exists(checkpoint_directory):\n",
    "    tf.gfile.DeleteRecursively(checkpoint_directory)\n",
    "tf.gfile.MakeDirs(checkpoint_directory)\n",
    "\n",
    "print('training data size:', len(X))\n",
    "print('approximate steps per epoch:', int(len(X)/batch_size))"
   ]
  },
  {
   "cell_type": "code",
   "execution_count": null,
   "metadata": {
    "collapsed": true
   },
   "outputs": [],
   "source": [
    "graph = tf.Graph()\n",
    "with graph.as_default():\n",
    "    #global_step just keeps track \n",
    "    #of the number of batches seen so far starts off as 0\n",
    "    global_step = tf.Variable(0)\n",
    "    #input data \n",
    "    data = tf.placeholder(tf.float32, [batch_size, len_per_section, char_size])\n",
    "    #labels\n",
    "    labels = tf.placeholder(tf.float32, [batch_size, char_size])\n",
    "    \n",
    "    ############################\n",
    "    #Now let's build LSTM Cell##\n",
    "    ############################\n",
    "    \n",
    "    #input gate \n",
    "    w_ii = tf.Variable(tf.truncated_normal([char_size,hidden_nodes],-0.1,0.1))\n",
    "    w_io = tf.Variable(tf.truncated_normal([hidden_nodes, hidden_nodes], -0.1, 0.1))\n",
    "    b_i = tf.Variable(tf.zeros([1, hidden_nodes]))\n",
    "    #Forget gate: weights for input, weights for previous output, and bias\n",
    "    w_fi = tf.Variable(tf.truncated_normal([char_size, hidden_nodes], -0.1, 0.1))\n",
    "    w_fo = tf.Variable(tf.truncated_normal([hidden_nodes, hidden_nodes], -0.1, 0.1))\n",
    "    b_f = tf.Variable(tf.zeros([1, hidden_nodes]))\n",
    "    #Output gate: weights for input, weights for previous output, and bias\n",
    "    w_oi = tf.Variable(tf.truncated_normal([char_size, hidden_nodes], -0.1, 0.1))\n",
    "    w_oo = tf.Variable(tf.truncated_normal([hidden_nodes, hidden_nodes], -0.1, 0.1))\n",
    "    b_o = tf.Variable(tf.zeros([1, hidden_nodes]))\n",
    "    #Memory cell: weights for input, weights for previous output, and bias\n",
    "    w_ci = tf.Variable(tf.truncated_normal([char_size, hidden_nodes], -0.1, 0.1))\n",
    "    w_co = tf.Variable(tf.truncated_normal([hidden_nodes, hidden_nodes], -0.1, 0.1))\n",
    "    b_c = tf.Variable(tf.zeros([1, hidden_nodes]))\n",
    "    \n",
    "    #LSTM Cell\n",
    "    # given input, output, external state, it will return output and state\n",
    "    #output starts off empty, LSTM cell calculates it\n",
    "    \n",
    "    #Since, we have two kinds of states - the internal state ct \n",
    "    #and the (exposed) external state st, and since we need both of \n",
    "    #them for the subsequent sequential operations, we combine them \n",
    "    #into a tensor at each step, and pass them as input to the next \n",
    "    #step. This tensor is unpacked into st_1 and ct_1 at the beginning of each step.\n",
    "    \n",
    "    \n",
    "    def lstm(i, o, state):\n",
    "        \n",
    "        #these are all calculated seperately, no overlap until....\n",
    "        #(input * input weights) + (output * weights for previous output) + bias\n",
    "        input_gate = tf.sigmoid(tf.matmul(i, w_ii) + tf.matmul(o, w_io) + b_i)\n",
    "        #(input * forget weights) + (output * weights for previous output) + bias\n",
    "        forget_gate = tf.sigmoid(tf.matmul(i, w_fi) + tf.matmul(o, w_fo) + b_f)\n",
    "        #(input * output weights) + (output * weights for previous output) + bias\n",
    "        output_gate = tf.sigmoid(tf.matmul(i, w_oi) + tf.matmul(o, w_oo) + b_o)\n",
    "        #(input * internal state weights) + (output * weights for previous output) + bias\n",
    "        memory_cell = tf.sigmoid(tf.matmul(i, w_ci) + tf.matmul(o, w_co) + b_c)\n",
    "        \n",
    "        #...now! multiply forget gate * given state    +  input gate * hidden state\n",
    "        state = forget_gate * state + input_gate * memory_cell\n",
    "        #squash that state with tanh nonlin (Computes hyperbolic tangent of x element-wise)\n",
    "        #multiply by output\n",
    "        output = output_gate * tf.tanh(state)\n",
    "        #return \n",
    "        return output, state\n",
    "    \n",
    "    \n",
    "    ###########\n",
    "    #Operation\n",
    "    ###########\n",
    "    #LSTM\n",
    "    #both start off as empty, LSTM will calculate this\n",
    "    output = tf.zeros([batch_size, hidden_nodes])\n",
    "    state = tf.zeros([batch_size, hidden_nodes])\n",
    "\n",
    "    ####################################\n",
    "    ## Ok, this is the important part, LSTM is actually running a loop \n",
    "    ## it will slice each plane of the 3d matrix of input then do the \n",
    "    ## matrix multiplication \n",
    "    ####################################\n",
    "    for i in range(len_per_section):\n",
    "        #calculate state and output from LSTM\n",
    "        output, state = lstm(data[:, i, :], output, state)\n",
    "        #to start, \n",
    "        if i == 0:\n",
    "            #store initial output and labels\n",
    "            outputs_all_i = output\n",
    "            labels_all_i = data[:, i+1, :]\n",
    "        #for each new set, concat outputs and labels\n",
    "        elif i != len_per_section - 1:\n",
    "            #concatenates (combines) vectors along a dimension axis, not multiply\n",
    "            outputs_all_i = tf.concat(0, [outputs_all_i, output])\n",
    "            labels_all_i = tf.concat(0, [labels_all_i, data[:, i+1, :]])\n",
    "        else:\n",
    "            #final store\n",
    "            outputs_all_i = tf.concat(0, [outputs_all_i, output])\n",
    "            labels_all_i = tf.concat(0, [labels_all_i, labels])"
   ]
  }
 ],
 "metadata": {
  "kernelspec": {
   "display_name": "Python 3",
   "language": "python",
   "name": "python3"
  },
  "language_info": {
   "codemirror_mode": {
    "name": "ipython",
    "version": 3
   },
   "file_extension": ".py",
   "mimetype": "text/x-python",
   "name": "python",
   "nbconvert_exporter": "python",
   "pygments_lexer": "ipython3",
   "version": "3.6.0"
  }
 },
 "nbformat": 4,
 "nbformat_minor": 2
}
