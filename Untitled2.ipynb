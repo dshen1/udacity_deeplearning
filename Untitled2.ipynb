{
 "cells": [
  {
   "cell_type": "code",
   "execution_count": 9,
   "metadata": {
    "collapsed": false
   },
   "outputs": [
    {
     "name": "stdout",
     "output_type": "stream",
     "text": [
      "[[[ 1 10 19]\n",
      "  [ 2 11 20]\n",
      "  [ 3 12 21]]\n",
      "\n",
      " [[ 4 13 22]\n",
      "  [ 5 14 23]\n",
      "  [ 6 15 24]]\n",
      "\n",
      " [[ 7 16 25]\n",
      "  [ 8 17 26]\n",
      "  [ 9 18 27]]]\n",
      "\n",
      "\n",
      "[[[ 1 10 19]\n",
      "  [ 2 11 20]\n",
      "  [ 3 12 21]]\n",
      "\n",
      " [[ 4 13 22]\n",
      "  [ 5 14 23]\n",
      "  [ 6 15 24]]\n",
      "\n",
      " [[ 7 16 25]\n",
      "  [ 8 17 26]\n",
      "  [ 9 18 27]]]\n",
      "\n",
      "\n",
      "[[ 1 10 19]\n",
      " [ 2 11 20]\n",
      " [ 3 12 21]\n",
      " [ 4 13 22]\n",
      " [ 5 14 23]\n",
      " [ 6 15 24]\n",
      " [ 7 16 25]\n",
      " [ 8 17 26]\n",
      " [ 9 18 27]]\n",
      "\n",
      "\n"
     ]
    }
   ],
   "source": [
    "import numpy as np\n",
    "import tensorflow as tf\n",
    "\n",
    "tf.reset_default_graph()\n",
    "N = 3\n",
    "M = 3\n",
    "L = 3\n",
    "\n",
    "lstm_output = np.array(range(1,28))\n",
    "lstm_output = lstm_output.reshape([3,3,3],order=\"F\")\n",
    "for l in range(L):\n",
    "    lstm_output[:,:,l]=lstm_output[:,:,l].T\n",
    "\n",
    "print(lstm_output)\n",
    "print('\\n')\n",
    "seq_output = tf.concat(lstm_output, axis=1)\n",
    "\n",
    "sess = tf.Session()\n",
    "print(sess.run(seq_output))\n",
    "print('\\n')\n",
    "sess.close()\n",
    "\n",
    "x = tf.reshape(seq_output, [-1, L])\n",
    "\n",
    "sess = tf.Session()\n",
    "print(sess.run(x))\n",
    "print('\\n')\n",
    "sess.close()"
   ]
  },
  {
   "cell_type": "code",
   "execution_count": null,
   "metadata": {
    "collapsed": false
   },
   "outputs": [],
   "source": []
  },
  {
   "cell_type": "code",
   "execution_count": null,
   "metadata": {
    "collapsed": true
   },
   "outputs": [],
   "source": []
  }
 ],
 "metadata": {
  "kernelspec": {
   "display_name": "Python 3",
   "language": "python",
   "name": "python3"
  },
  "language_info": {
   "codemirror_mode": {
    "name": "ipython",
    "version": 3
   },
   "file_extension": ".py",
   "mimetype": "text/x-python",
   "name": "python",
   "nbconvert_exporter": "python",
   "pygments_lexer": "ipython3",
   "version": "3.5.2"
  }
 },
 "nbformat": 4,
 "nbformat_minor": 2
}
