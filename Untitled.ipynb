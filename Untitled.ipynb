{
 "cells": [
  {
   "cell_type": "code",
   "execution_count": 1,
   "metadata": {
    "collapsed": true
   },
   "outputs": [],
   "source": [
    "import tensorflow as tf\n",
    "import numpy as np\n",
    "import os\n",
    "import json"
   ]
  },
  {
   "cell_type": "code",
   "execution_count": 2,
   "metadata": {
    "collapsed": true
   },
   "outputs": [],
   "source": [
    "batchsize = 64\n",
    "numsteps = 20\n",
    "embedsize = 200\n",
    "numlayers = 2\n",
    "vocabsize = 33235 # WORDS + 2 IF YOU ARE USING YOUR OWN DATABASE: CHANGE THIS!!!\n",
    "keep_prob = 0.5\n"
   ]
  },
  {
   "cell_type": "code",
   "execution_count": 3,
   "metadata": {
    "collapsed": true
   },
   "outputs": [],
   "source": [
    "input_data = tf.placeholder(tf.int32,[batchsize,numsteps])\n",
    "targets = tf.placeholder(tf.int32,[batchsize,numsteps])"
   ]
  },
  {
   "cell_type": "code",
   "execution_count": 4,
   "metadata": {},
   "outputs": [],
   "source": [
    "def lstm_cell(embedsize,keep_prob):\n",
    "    lstm_cell = tf.contrib.rnn.BasicLSTMCell(embedsize,state_is_tuple=True,reuse=tf.get_variable_scope().reuse) \n",
    "    lstm_cell = tf.contrib.rnn.DropoutWrapper(lstm_cell,keep_prob) \n",
    "    return lstm_cell \n",
    "\n"
   ]
  },
  {
   "cell_type": "code",
   "execution_count": 5,
   "metadata": {
    "collapsed": true
   },
   "outputs": [],
   "source": [
    "cell = tf.contrib.rnn.MultiRNNCell([lstm_cell(embedsize,keep_prob) for _ in range(numlayers)]) \n",
    "initialstate = cell.zero_state(batchsize, tf.float32)"
   ]
  },
  {
   "cell_type": "code",
   "execution_count": 6,
   "metadata": {
    "collapsed": true
   },
   "outputs": [],
   "source": [
    "with tf.variable_scope(\"rnnlm\"):\n",
    "    with tf.device(\"/cpu:0\"):\n",
    "        embedding = tf.get_variable(\"embedding\", [vocabsize, embedsize])\n",
    "        # inputs = list of 20, each containing [64,200]\n",
    "        inputs = tf.split(tf.nn.embedding_lookup(embedding, input_data), numsteps, 1) # inputs = tf.split(1, numsteps, tf.nn.embedding_lookup(embedding, input_data))\n",
    "        inputs = [tf.squeeze(input_, [1]) for input_ in inputs]\n",
    "\n",
    "    softmax_w = tf.get_variable(\"softmax_w\", [embedsize, vocabsize])\n",
    "    softmax_b = tf.get_variable(\"softmax_b\", [vocabsize])"
   ]
  },
  {
   "cell_type": "code",
   "execution_count": 7,
   "metadata": {},
   "outputs": [],
   "source": [
    "# this basically runs through an RNN, putting a word in at each timestep\n",
    "outputs, last_state = tf.contrib.legacy_seq2seq.rnn_decoder(inputs, initialstate, cell, loop_function=None, scope='rnnlm')\n",
    "# outputs: list(20), of [batchsize x outputsize], [64 x 200]\n",
    "# outputs are word embeddings\n",
    "\n",
    "# conc = tf.concat(2,outputs)\n",
    "# print conc.get_shape()\n",
    "# predictions = tf.matmul( tf.concat(2,outputs), softmax_w) + softmax_b\n",
    "\n",
    "# put all the timesteps/batches in one dimension\n",
    "output = tf.reshape(tf.concat(axis=1,values=outputs), [-1, embedsize])\n",
    "\n",
    "# word embeddings to word probabilities\n",
    "logits = tf.matmul(output, softmax_w) + softmax_b\n",
    "probs = tf.nn.softmax(logits)"
   ]
  },
  {
   "cell_type": "code",
   "execution_count": 8,
   "metadata": {
    "collapsed": true
   },
   "outputs": [],
   "source": [
    "# target array flattened like we did for outputs\n",
    "flat_targets = tf.reshape(targets, [-1])\n",
    "# sequence by loss requires a weighting for each word, use tf.ones so they are all weighted equal\n",
    "weights = tf.ones([batchsize * numsteps])"
   ]
  },
  {
   "cell_type": "code",
   "execution_count": 9,
   "metadata": {},
   "outputs": [
    {
     "ename": "FileNotFoundError",
     "evalue": "[Errno 2] No such file or directory: 'data.npy'",
     "output_type": "error",
     "traceback": [
      "\u001b[0;31m---------------------------------------------------------------------------\u001b[0m",
      "\u001b[0;31mFileNotFoundError\u001b[0m                         Traceback (most recent call last)",
      "\u001b[0;32m<ipython-input-9-b1690ef8b953>\u001b[0m in \u001b[0;36m<module>\u001b[0;34m()\u001b[0m\n\u001b[1;32m      9\u001b[0m \u001b[0mtrain_op\u001b[0m \u001b[0;34m=\u001b[0m \u001b[0mtf\u001b[0m\u001b[0;34m.\u001b[0m\u001b[0mtrain\u001b[0m\u001b[0;34m.\u001b[0m\u001b[0mAdamOptimizer\u001b[0m\u001b[0;34m(\u001b[0m\u001b[0mlearningrate\u001b[0m\u001b[0;34m)\u001b[0m\u001b[0;34m.\u001b[0m\u001b[0mapply_gradients\u001b[0m\u001b[0;34m(\u001b[0m\u001b[0mzip\u001b[0m\u001b[0;34m(\u001b[0m\u001b[0mgrads\u001b[0m\u001b[0;34m,\u001b[0m \u001b[0mtvars\u001b[0m\u001b[0;34m)\u001b[0m\u001b[0;34m)\u001b[0m\u001b[0;34m\u001b[0m\u001b[0m\n\u001b[1;32m     10\u001b[0m \u001b[0;34m\u001b[0m\u001b[0m\n\u001b[0;32m---> 11\u001b[0;31m \u001b[0mdata\u001b[0m \u001b[0;34m=\u001b[0m \u001b[0mnp\u001b[0m\u001b[0;34m.\u001b[0m\u001b[0mload\u001b[0m\u001b[0;34m(\u001b[0m\u001b[0;34m\"data.npy\"\u001b[0m\u001b[0;34m)\u001b[0m\u001b[0;34m\u001b[0m\u001b[0m\n\u001b[0m\u001b[1;32m     12\u001b[0m \u001b[0mnum_batches\u001b[0m \u001b[0;34m=\u001b[0m \u001b[0mdata\u001b[0m\u001b[0;34m.\u001b[0m\u001b[0mshape\u001b[0m\u001b[0;34m[\u001b[0m\u001b[0;36m0\u001b[0m\u001b[0;34m]\u001b[0m \u001b[0;34m/\u001b[0m \u001b[0mbatchsize\u001b[0m\u001b[0;34m\u001b[0m\u001b[0m\n\u001b[1;32m     13\u001b[0m \u001b[0;31m# makes sure the data ends with a full batch\u001b[0m\u001b[0;34m\u001b[0m\u001b[0;34m\u001b[0m\u001b[0m\n",
      "\u001b[0;32m/home/chengyu/anaconda3/envs/tensorflow/lib/python3.6/site-packages/numpy/lib/npyio.py\u001b[0m in \u001b[0;36mload\u001b[0;34m(file, mmap_mode, allow_pickle, fix_imports, encoding)\u001b[0m\n\u001b[1;32m    368\u001b[0m     \u001b[0mown_fid\u001b[0m \u001b[0;34m=\u001b[0m \u001b[0;32mFalse\u001b[0m\u001b[0;34m\u001b[0m\u001b[0m\n\u001b[1;32m    369\u001b[0m     \u001b[0;32mif\u001b[0m \u001b[0misinstance\u001b[0m\u001b[0;34m(\u001b[0m\u001b[0mfile\u001b[0m\u001b[0;34m,\u001b[0m \u001b[0mbasestring\u001b[0m\u001b[0;34m)\u001b[0m\u001b[0;34m:\u001b[0m\u001b[0;34m\u001b[0m\u001b[0m\n\u001b[0;32m--> 370\u001b[0;31m         \u001b[0mfid\u001b[0m \u001b[0;34m=\u001b[0m \u001b[0mopen\u001b[0m\u001b[0;34m(\u001b[0m\u001b[0mfile\u001b[0m\u001b[0;34m,\u001b[0m \u001b[0;34m\"rb\"\u001b[0m\u001b[0;34m)\u001b[0m\u001b[0;34m\u001b[0m\u001b[0m\n\u001b[0m\u001b[1;32m    371\u001b[0m         \u001b[0mown_fid\u001b[0m \u001b[0;34m=\u001b[0m \u001b[0;32mTrue\u001b[0m\u001b[0;34m\u001b[0m\u001b[0m\n\u001b[1;32m    372\u001b[0m     \u001b[0;32melif\u001b[0m \u001b[0mis_pathlib_path\u001b[0m\u001b[0;34m(\u001b[0m\u001b[0mfile\u001b[0m\u001b[0;34m)\u001b[0m\u001b[0;34m:\u001b[0m\u001b[0;34m\u001b[0m\u001b[0m\n",
      "\u001b[0;31mFileNotFoundError\u001b[0m: [Errno 2] No such file or directory: 'data.npy'"
     ]
    }
   ],
   "source": [
    "loss = tf.contrib.legacy_seq2seq.sequence_loss_by_example([logits], [flat_targets], [weights])\n",
    "# loss = tf.nn.seq2seq.sequence_loss_by_example([logits], [flat_targets], [weights])\n",
    "cost = tf.reduce_sum(loss) / (batchsize * numsteps)\n",
    "final_state = last_state\n",
    "learningrate = tf.Variable(0.0, trainable=False)\n",
    "tvars = tf.trainable_variables()\n",
    "# makes gradients not get too huge and explode\n",
    "grads, _ = tf.clip_by_global_norm(tf.gradients(cost, tvars), 5)\n",
    "train_op = tf.train.AdamOptimizer(learningrate).apply_gradients(zip(grads, tvars))\n",
    "\n",
    "data = np.load(\"data.npy\")\n",
    "num_batches = data.shape[0] / batchsize\n",
    "# makes sure the data ends with a full batch\n",
    "data = data [:num_batches*batchsize,:]\n",
    "data = np.split(data,num_batches)\n",
    "# x = input, y = targets\n",
    "xdata = data\n",
    "ydata = np.copy(data)\n",
    "# shift all the targets by one: we want to predict the NEXT word\n",
    "for i in xrange(num_batches):\n",
    "    ydata[i][:,:-1] = xdata[i][:,1:]\n",
    "    ydata[i][:,-1] = 0\n",
    "\n",
    "with tf.Session() as sess:\n",
    "    saver = tf.train.Saver()\n",
    "    sess.run(tf.initialize_all_variables())\n",
    "    for e in xrange(50):\n",
    "        sess.run(tf.assign(learningrate, 0.005))\n",
    "        for b in xrange(num_batches):\n",
    "            train_loss, _ = sess.run([cost, train_op], feed_dict={input_data: xdata[b], targets: ydata[b]})\n",
    "            print (\"%d: %f\" % (b, train_loss))\n",
    "            if b % 1000 == 0:\n",
    "                saver.save(sess, os.getcwd()+\"/training/train\",global_step=(e*10000 + b))"
   ]
  },
  {
   "cell_type": "code",
   "execution_count": null,
   "metadata": {
    "collapsed": true
   },
   "outputs": [],
   "source": []
  }
 ],
 "metadata": {
  "kernelspec": {
   "display_name": "Python 3",
   "language": "python",
   "name": "python3"
  },
  "language_info": {
   "codemirror_mode": {
    "name": "ipython",
    "version": 3
   },
   "file_extension": ".py",
   "mimetype": "text/x-python",
   "name": "python",
   "nbconvert_exporter": "python",
   "pygments_lexer": "ipython3",
   "version": "3.6.1"
  }
 },
 "nbformat": 4,
 "nbformat_minor": 2
}
