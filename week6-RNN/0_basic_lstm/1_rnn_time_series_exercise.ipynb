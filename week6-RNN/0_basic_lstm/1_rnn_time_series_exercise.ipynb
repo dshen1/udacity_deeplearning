{
 "cells": [
  {
   "cell_type": "markdown",
   "metadata": {},
   "source": [
    "## RNN for time series - exercise"
   ]
  },
  {
   "cell_type": "code",
   "execution_count": 1,
   "metadata": {
    "collapsed": false
   },
   "outputs": [
    {
     "data": {
      "text/html": [
       "<img src=\"https://cdn-images-1.medium.com/max/1600/1*UkI9za9zTR-HL8uM15Wmzw.png\"/>"
      ],
      "text/plain": [
       "<IPython.core.display.Image object>"
      ]
     },
     "execution_count": 1,
     "metadata": {},
     "output_type": "execute_result"
    }
   ],
   "source": [
    "from IPython.display import Image\n",
    "from IPython.core.display import HTML \n",
    "import tensorflow as tf\n",
    "import numpy as np\n",
    "import matplotlib.pyplot as plt\n",
    "Image(url= \"https://cdn-images-1.medium.com/max/1600/1*UkI9za9zTR-HL8uM15Wmzw.png\")"
   ]
  },
  {
   "cell_type": "markdown",
   "metadata": {},
   "source": [
    "#### 1.Set up hyperparams"
   ]
  },
  {
   "cell_type": "code",
   "execution_count": 2,
   "metadata": {
    "collapsed": true
   },
   "outputs": [],
   "source": [
    "num_epochs = 10\n",
    "total_series_length = 50000      \n",
    "truncated_backprop_length = 15  ## sequence length \n",
    "state_size = 4                  ## number of neuros in hidden layer\n",
    "num_classes = 2 \n",
    "echo_step = 3                   ## how many steps you want to shift \n",
    "batch_size = 5\n",
    "num_batches = total_series_length//(batch_size*truncated_backprop_length)  # number of batches\n"
   ]
  },
  {
   "cell_type": "markdown",
   "metadata": {},
   "source": [
    "#### 2. generate some test data"
   ]
  },
  {
   "cell_type": "code",
   "execution_count": 3,
   "metadata": {
    "collapsed": true
   },
   "outputs": [],
   "source": [
    "def generateData(total_series_length):\n",
    "    x = np.array(np.random.choice(2,total_series_length,p=[0.5,0.5]))  ## random choose 0 and 1 for 50000 times\n",
    "    y = np.roll(x,echo_step)                          ## shift the data to the right by echo_steps \n",
    "    y[0:echo_step] = 0 \n",
    "    x = x.reshape((batch_size,-1))                    ## make them into different batches \n",
    "    y= y.reshape((batch_size,-1))                     ## make them into different batches\n",
    "    \n",
    "    return (x,y)"
   ]
  },
  {
   "cell_type": "code",
   "execution_count": 4,
   "metadata": {
    "collapsed": false
   },
   "outputs": [
    {
     "data": {
      "text/plain": [
       "(array([[1, 0, 0, ..., 0, 0, 0],\n",
       "        [0, 0, 1, ..., 1, 0, 1],\n",
       "        [1, 0, 0, ..., 1, 0, 0],\n",
       "        [0, 1, 1, ..., 1, 0, 1],\n",
       "        [1, 0, 0, ..., 1, 0, 0]]), array([[0, 0, 0, ..., 1, 0, 0],\n",
       "        [0, 0, 0, ..., 1, 0, 1],\n",
       "        [1, 0, 1, ..., 1, 0, 1],\n",
       "        [1, 0, 0, ..., 1, 0, 1],\n",
       "        [1, 0, 1, ..., 1, 1, 1]]))"
      ]
     },
     "execution_count": 4,
     "metadata": {},
     "output_type": "execute_result"
    }
   ],
   "source": [
    "data = generateData(total_series_length)\n",
    "data"
   ]
  },
  {
   "cell_type": "markdown",
   "metadata": {},
   "source": [
    "#### 3. build model "
   ]
  },
  {
   "cell_type": "code",
   "execution_count": 5,
   "metadata": {
    "collapsed": true
   },
   "outputs": [],
   "source": [
    "\n",
    "# input and output data\n",
    "batchX_placeholder = tf.placeholder(tf.float32,[batch_size,truncated_backprop_length])\n",
    "batchY_placeholder = tf.placeholder(tf.int32,[batch_size,truncated_backprop_length])\n",
    "\n",
    "# this is RNN state \n",
    "init_state = tf.placeholder(tf.float32,[batch_size,state_size])\n",
    "\n",
    "# weights and biases 1  \n",
    "W = tf.Variable(np.random.rand(state_size+1,state_size),dtype=tf.float32)\n",
    "b = tf.Variable(np.zeros((1,state_size)),dtype=tf.float32)\n",
    "# weights and biases 2  \n",
    "W2 = tf.Variable(np.random.rand(state_size,num_classes),dtype=tf.float32)\n",
    "b2 = tf.Variable(np.zeros((1,num_classes)), dtype=tf.float32)"
   ]
  },
  {
   "cell_type": "code",
   "execution_count": 6,
   "metadata": {
    "collapsed": false
   },
   "outputs": [
    {
     "data": {
      "text/plain": [
       "TensorShape([Dimension(5), Dimension(15)])"
      ]
     },
     "execution_count": 6,
     "metadata": {},
     "output_type": "execute_result"
    }
   ],
   "source": [
    "batchX_placeholder.shape"
   ]
  },
  {
   "cell_type": "code",
   "execution_count": 7,
   "metadata": {
    "collapsed": false
   },
   "outputs": [
    {
     "data": {
      "text/html": [
       "<img src=\"https://cdn-images-1.medium.com/max/1600/1*n45uYnAfTDrBvG87J-poCA.jpeg\"/>"
      ],
      "text/plain": [
       "<IPython.core.display.Image object>"
      ]
     },
     "execution_count": 7,
     "metadata": {},
     "output_type": "execute_result"
    }
   ],
   "source": [
    "Image(url= \"https://cdn-images-1.medium.com/max/1600/1*n45uYnAfTDrBvG87J-poCA.jpeg\")"
   ]
  },
  {
   "cell_type": "code",
   "execution_count": 8,
   "metadata": {
    "collapsed": false
   },
   "outputs": [],
   "source": [
    "## unpack batch matrix into 1 dimensional array\n",
    "inputs_series = tf.unstack(batchX_placeholder, axis=1)   ## basically sliced each column into a sequence of arraies\n",
    "labels_series = tf.unstack(batchY_placeholder, axis=1)   ## basically sliced each column into a sequence of arraies\n",
    "# we do this because we need to feed data into rnn as sequence, \n",
    "# we feed in one column at a time "
   ]
  },
  {
   "cell_type": "code",
   "execution_count": 9,
   "metadata": {
    "collapsed": false
   },
   "outputs": [
    {
     "data": {
      "text/plain": [
       "[<tf.Tensor 'unstack:0' shape=(5,) dtype=float32>,\n",
       " <tf.Tensor 'unstack:1' shape=(5,) dtype=float32>,\n",
       " <tf.Tensor 'unstack:2' shape=(5,) dtype=float32>,\n",
       " <tf.Tensor 'unstack:3' shape=(5,) dtype=float32>,\n",
       " <tf.Tensor 'unstack:4' shape=(5,) dtype=float32>,\n",
       " <tf.Tensor 'unstack:5' shape=(5,) dtype=float32>,\n",
       " <tf.Tensor 'unstack:6' shape=(5,) dtype=float32>,\n",
       " <tf.Tensor 'unstack:7' shape=(5,) dtype=float32>,\n",
       " <tf.Tensor 'unstack:8' shape=(5,) dtype=float32>,\n",
       " <tf.Tensor 'unstack:9' shape=(5,) dtype=float32>,\n",
       " <tf.Tensor 'unstack:10' shape=(5,) dtype=float32>,\n",
       " <tf.Tensor 'unstack:11' shape=(5,) dtype=float32>,\n",
       " <tf.Tensor 'unstack:12' shape=(5,) dtype=float32>,\n",
       " <tf.Tensor 'unstack:13' shape=(5,) dtype=float32>,\n",
       " <tf.Tensor 'unstack:14' shape=(5,) dtype=float32>]"
      ]
     },
     "execution_count": 9,
     "metadata": {},
     "output_type": "execute_result"
    }
   ],
   "source": [
    "## take a look at how our inputs get transformed\n",
    "inputs_series"
   ]
  },
  {
   "cell_type": "code",
   "execution_count": 10,
   "metadata": {
    "collapsed": false
   },
   "outputs": [],
   "source": [
    "# Forward pass\n",
    "# stat placeholder \n",
    "\n",
    "current_state = init_state\n",
    "state_series = []\n",
    "\n",
    "for current_input in inputs_series:\n",
    "    current_input = tf.reshape(current_input,[batch_size,1])\n",
    "    input_and_state_concatenated = tf.concat([current_input, current_state],1)\n",
    "    next_state = tf.tanh(tf.matmul(input_and_state_concatenated, W) + b)\n",
    "    state_series.append(next_state)\n",
    "    current_state = next_state"
   ]
  },
  {
   "cell_type": "code",
   "execution_count": 11,
   "metadata": {
    "collapsed": false
   },
   "outputs": [
    {
     "data": {
      "text/html": [
       "<img src=\"https://cdn-images-1.medium.com/max/1600/1*fdwNNJ5UOE3Sx0R_Cyfmyg.png\"/>"
      ],
      "text/plain": [
       "<IPython.core.display.Image object>"
      ]
     },
     "execution_count": 11,
     "metadata": {},
     "output_type": "execute_result"
    }
   ],
   "source": [
    "Image(url= \"https://cdn-images-1.medium.com/max/1600/1*fdwNNJ5UOE3Sx0R_Cyfmyg.png\")"
   ]
  },
  {
   "cell_type": "code",
   "execution_count": 12,
   "metadata": {
    "collapsed": false
   },
   "outputs": [],
   "source": [
    "## calculat loss and minimize it \n",
    "#second part of forward pass\n",
    "#logits short for logistic transform\n",
    "logits_series = [tf.matmul(state,W2) + b2 for state in state_series]\n",
    "#apply softmax nonlinearity for output probability\n",
    "predictions_series = [tf.nn.softmax(logits) for logits in logits_series]\n",
    "\n",
    "# measure loss, calculate softmax again on logits, then compute cross entropy\n",
    "# softmax cross entropy will apply softmax by it self\n",
    "# here, our lables are not onehot encoded, we use sparse_softmax_cross_entropy\n",
    "# if our lables are one hot encoded, we use softmax_cross_entropy\n",
    "losses = [tf.nn.sparse_softmax_cross_entropy_with_logits(logits=logits, labels=labels) for \n",
    "          logits, labels in zip(logits_series,labels_series)]\n",
    "total_loss = tf.reduce_mean(losses)\n",
    "\n",
    "## optimizer \n",
    "## great paper http://seed.ucsd.edu/mediawiki/images/6/6a/Adagrad.pdf\n",
    "train_step = tf.train.AdagradOptimizer(0.3).minimize(total_loss)"
   ]
  },
  {
   "cell_type": "code",
   "execution_count": 13,
   "metadata": {
    "collapsed": true
   },
   "outputs": [],
   "source": [
    "###############\n",
    "#visualizer\n",
    "###############\n",
    "def plot(loss_list, predictions_series, batchX, batchY):\n",
    "    plt.subplot(2, 3, 1)\n",
    "    plt.cla()\n",
    "    plt.plot(loss_list)\n",
    "\n",
    "    for batch_series_idx in range(5):\n",
    "        one_hot_output_series = np.array(predictions_series)[:, batch_series_idx, :]\n",
    "        single_output_series = np.array([(1 if out[0] < 0.5 else 0) for out in one_hot_output_series])\n",
    "\n",
    "        plt.subplot(2, 3, batch_series_idx + 2)\n",
    "        plt.cla()\n",
    "        plt.axis([0, truncated_backprop_length, 0, 2])\n",
    "        left_offset = range(truncated_backprop_length)\n",
    "        plt.bar(left_offset, batchX[batch_series_idx, :], width=1, color=\"blue\")\n",
    "        plt.bar(left_offset, batchY[batch_series_idx, :] * 0.5, width=1, color=\"red\")\n",
    "        plt.bar(left_offset, single_output_series * 0.3, width=1, color=\"green\")\n",
    "\n",
    "    plt.draw()\n",
    "    plt.pause(0.0001)"
   ]
  },
  {
   "cell_type": "markdown",
   "metadata": {},
   "source": [
    "#### 4. Train the network"
   ]
  },
  {
   "cell_type": "code",
   "execution_count": 14,
   "metadata": {
    "collapsed": false
   },
   "outputs": [
    {
     "data": {
      "text/plain": [
       "<matplotlib.figure.Figure at 0x7fca313e3e80>"
      ]
     },
     "metadata": {},
     "output_type": "display_data"
    },
    {
     "name": "stdout",
     "output_type": "stream",
     "text": [
      "New data, epoch 0\n",
      "Step 0 Loss 0.761303\n",
      "New data, epoch 1\n",
      "Step 0 Loss 0.578917\n",
      "New data, epoch 2\n",
      "Step 0 Loss 0.120799\n",
      "New data, epoch 3\n",
      "Step 0 Loss 0.179847\n",
      "New data, epoch 4\n",
      "Step 0 Loss 0.161916\n",
      "New data, epoch 5\n",
      "Step 0 Loss 0.16888\n",
      "New data, epoch 6\n",
      "Step 0 Loss 0.192469\n",
      "New data, epoch 7\n",
      "Step 0 Loss 0.12838\n",
      "New data, epoch 8\n",
      "Step 0 Loss 0.118951\n",
      "New data, epoch 9\n",
      "Step 0 Loss 0.132007\n"
     ]
    },
    {
     "data": {
      "image/png": "[encoded data removed]",
      "text/plain": [
       "<matplotlib.figure.Figure at 0x7fca30f5c4e0>"
      ]
     },
     "metadata": {},
     "output_type": "display_data"
    }
   ],
   "source": [
    "with tf.Session() as sess:\n",
    "    sess.run(tf.global_variables_initializer())\n",
    "    \n",
    "    #interactive mode\n",
    "    plt.ion()\n",
    "    #initialize the figure\n",
    "    plt.figure()\n",
    "    #show the graph\n",
    "    plt.show()\n",
    "    #to show the loss decrease\n",
    "    loss_list = []\n",
    "\n",
    "    for epoch_idx in range(num_epochs): ## loop through all batches\n",
    "        x,y = generateData(total_series_length)\n",
    "        _current_state = np.zeros((batch_size,state_size))  ## initial state, set to be all 0s \n",
    "                                                            ## it was a place holder, set up earlier before\n",
    "        print(\"New data, epoch\", epoch_idx)\n",
    "        for batch_idx  in range(num_batches):\n",
    "            #starting and ending point per batch\n",
    "            start_idx = batch_idx * truncated_backprop_length\n",
    "            end_idx = start_idx + truncated_backprop_length\n",
    "            batchX = x[:,start_idx:end_idx]\n",
    "            batchY = y[:,start_idx:end_idx]\n",
    "            \n",
    "            _total_loss,_train_step,_current_state,_predictions_series = sess.run(\n",
    "                [total_loss,train_step,current_state,predictions_series],\n",
    "                feed_dict={\n",
    "                    batchX_placeholder:batchX,\n",
    "                    batchY_placeholder:batchY,\n",
    "                    init_state:_current_state\n",
    "                })\n",
    "            \n",
    "            loss_list.append(_total_loss)\n",
    "            \n",
    "            if batch_idx%1000 ==0:\n",
    "                print(\"Step\",batch_idx, \"Loss\", _total_loss)\n",
    "                plot(loss_list, _predictions_series, batchX, batchY)\n",
    "\n",
    "plt.ioff()\n",
    "plt.show()"
   ]
  },
  {
   "cell_type": "code",
   "execution_count": null,
   "metadata": {
    "collapsed": true
   },
   "outputs": [],
   "source": []
  }
 ],
 "metadata": {
  "kernelspec": {
   "display_name": "Python 3",
   "language": "python",
   "name": "python3"
  },
  "language_info": {
   "codemirror_mode": {
    "name": "ipython",
    "version": 3
   },
   "file_extension": ".py",
   "mimetype": "text/x-python",
   "name": "python",
   "nbconvert_exporter": "python",
   "pygments_lexer": "ipython3",
   "version": "3.5.2"
  }
 },
 "nbformat": 4,
 "nbformat_minor": 2
}
