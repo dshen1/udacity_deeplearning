{
 "cells": [
  {
   "cell_type": "markdown",
   "metadata": {},
   "source": [
    "### Generate Wiki Text "
   ]
  },
  {
   "cell_type": "markdown",
   "metadata": {},
   "source": [
    "##### Download data from https://metamind.io/research/the-wikitext-long-term-dependency-language-modeling-dataset/"
   ]
  },
  {
   "cell_type": "code",
   "execution_count": 18,
   "metadata": {
    "collapsed": true
   },
   "outputs": [],
   "source": [
    "#mini-demo\n",
    "from urllib.request import urlretrieve\n",
    "import os \n",
    "from os.path import isfile, isdir\n",
    "import zipfile \n",
    "from tqdm import tqdm\n",
    "import numpy as np #vectorization\n",
    "import random #generate probability distribution \n",
    "import tensorflow as tf #ml\n",
    "import datetime #clock training time"
   ]
  },
  {
   "cell_type": "markdown",
   "metadata": {},
   "source": [
    "### First download data "
   ]
  },
  {
   "cell_type": "code",
   "execution_count": 45,
   "metadata": {},
   "outputs": [
    {
     "name": "stdout",
     "output_type": "stream",
     "text": [
      "Data already exist\n"
     ]
    }
   ],
   "source": [
    "#### process bar\n",
    "class DLProgress(tqdm):\n",
    "    last_block = 0\n",
    "    def hook(self, block_num=1, block_size=1, total_size=None):\n",
    "        self.total = total_size\n",
    "        self.update((block_num - self.last_block) * block_size)\n",
    "        self.last_block = block_num\n",
    "\n",
    "## download file \n",
    "data_path = './wikitext'\n",
    "if isdir(data_path):\n",
    "    print('Data already exist')\n",
    "else:\n",
    "    if not isdir(data_path):\n",
    "        os.mkdir(data_path)\n",
    "    zip_file = os.path.join(data_path,'wikitext-103-v1.zip')\n",
    "    with DLProgress(unit='B', unit_scale=True, miniters=1, desc='wikidata') as pbar:\n",
    "        urlretrieve('https://s3.amazonaws.com/research.metamind.io/wikitext/wikitext-103-v1.zip',\n",
    "                    zip_file,\n",
    "                    pbar.hook)\n",
    "    with zipfile.ZipFile(os.path.join(data_path,'wikitext-103-v1.zip')) as myzip:\n",
    "        myzip.extractall(data_path)\n",
    "    ## remove zip file \n",
    "    os.remove(data_path+'/wikitext-103-v1.zip')\n",
    "\n",
    "data_file_path = \"./wikitext/wikitext-103\"\n",
    "train_file = os.path.join(data_file_path,'wiki.train.tokens')\n",
    "validate_file = os.path.join(data_file_path,'wiki.valid.tokens')"
   ]
  },
  {
   "cell_type": "markdown",
   "metadata": {},
   "source": [
    "### Read data"
   ]
  },
  {
   "cell_type": "code",
   "execution_count": 3,
   "metadata": {},
   "outputs": [
    {
     "name": "stdout",
     "output_type": "stream",
     "text": [
      "text length in number of characters: 538360726\n",
      "head of text:\n",
      " \n",
      " = Valkyria Chronicles III = \n",
      " \n",
      " Senjō no Valkyria 3 : <unk> Chronicles ( Japanese : 戦場のヴァルキュリア3 , lit . Valkyria of the Battlefield 3 ) , commonly referred to as Valkyria Chronicles III outside Japan , is a tactical role @-@ playing video game developed by Sega and Media.Vision for the PlayStation Portable . Released in January 2011 in Japan , it is the third game in the Valkyria series . Employing the same fusion of tactical and real @-@ time gameplay as its predecessors , the story runs parallel to the first game and follows the \" Nameless \" , a penal military unit serving the nation of Gallia during the Second Europan War who perform secret black operations and are pitted against the Imperial unit \" <unk> Raven \" . \n",
      " The game began development in 2010 , carrying over a large portion of the work done on Valkyria Chronicles II . While it retained the standard features of the series , it also underwent multiple adjustments , such as making the game more forgiving for series newcomer\n"
     ]
    }
   ],
   "source": [
    "#lets open the text\n",
    "#native python file read function\n",
    "text = open('wikitext/wiki.train.tokens').read()\n",
    "print('text length in number of characters:', len(text))\n",
    "print('head of text:')\n",
    "print(text[:1000]) #all tokenized words, stored in a list called text"
   ]
  },
  {
   "cell_type": "code",
   "execution_count": 7,
   "metadata": {},
   "outputs": [
    {
     "name": "stdout",
     "output_type": "stream",
     "text": [
      "number of characters: 1250\n",
      "['\\n', ' ', '!', '\"', '#', '$', '%', '&', \"'\", '(', ')', '*', '+', ',', '-', '.', '/', '0', '1', '2']\n"
     ]
    }
   ],
   "source": [
    "## get the set of characters and sort them \n",
    "chars = sorted(list(set(text)))\n",
    "char_size = len(chars)\n",
    "print('number of characters:', char_size)\n",
    "print(chars[:20])"
   ]
  },
  {
   "cell_type": "code",
   "execution_count": 16,
   "metadata": {
    "collapsed": true
   },
   "outputs": [],
   "source": [
    "## chrate char to id and id to char map \n",
    "char2id = {c:i for i,c in enumerate(chars)}\n",
    "id2char = {i:c for i,c in enumerate(chars)}"
   ]
  },
  {
   "cell_type": "code",
   "execution_count": null,
   "metadata": {
    "collapsed": true
   },
   "outputs": [],
   "source": [
    "## generate probability of each next charater \n",
    "def sample(prediction):\n",
    "    r = random.uniform(0,1)\n",
    "    s = 0 \n",
    "    char_id = len(prediction)-1\n",
    "    #for each char prediction probability \n",
    "    for i in range(len(prediction)):\n",
    "        s+= prediction[i]\n",
    "        if s >= r:\n",
    "            char_id = i \n",
    "            break \n",
    "    \n",
    "    char_one_hot = np.zeros(shape[char_size])\n",
    "    char_one_hot[char_id] = 1.0\n",
    "    return char_one_hot"
   ]
  }
 ],
 "metadata": {
  "kernelspec": {
   "display_name": "Python 3",
   "language": "python",
   "name": "python3"
  },
  "language_info": {
   "codemirror_mode": {
    "name": "ipython",
    "version": 3
   },
   "file_extension": ".py",
   "mimetype": "text/x-python",
   "name": "python",
   "nbconvert_exporter": "python",
   "pygments_lexer": "ipython3",
   "version": "3.6.1"
  }
 },
 "nbformat": 4,
 "nbformat_minor": 2
}
